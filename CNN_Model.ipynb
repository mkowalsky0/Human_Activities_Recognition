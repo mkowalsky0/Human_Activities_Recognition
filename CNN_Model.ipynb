{
 "cells": [
  {
   "cell_type": "markdown",
   "id": "9353ad53",
   "metadata": {},
   "source": [
    "# Convolutional neural network for the human activities recognition\n",
    "* using preprocessed data in shape (samples, window-shape, components) to train and test the model\n",
    "* analyzes motor activities based on signals from sensors\n",
    "* its six activities: walking, standing, sitting, laying, walking up and downstairs"
   ]
  },
  {
   "cell_type": "code",
   "execution_count": 96,
   "id": "ed065c2c",
   "metadata": {},
   "outputs": [],
   "source": [
    "# Importing necessary libraries\n",
    "import pandas as pd\n",
    "import numpy as np\n",
    "import matplotlib.pyplot as plt\n",
    "import glob\n",
    "from tensorflow import keras\n",
    "from keras.models import Sequential\n",
    "from keras.layers.convolutional import Conv1D, MaxPooling1D\n",
    "from keras.layers import Dense, Dropout, Flatten\n",
    "%matplotlib inline"
   ]
  },
  {
   "cell_type": "markdown",
   "id": "a4b5b3ac",
   "metadata": {},
   "source": [
    "# Loading and reshaping data"
   ]
  },
  {
   "cell_type": "code",
   "execution_count": 85,
   "id": "8aaa9e3d",
   "metadata": {},
   "outputs": [],
   "source": [
    "# Loading from the .txt files\n",
    "X_train = np.loadtxt('GeneralData/X_train.txt')\n",
    "X_test = np.loadtxt('GeneralData/X_test.txt')\n",
    "y_train = np.loadtxt('GeneralData/y_train.txt')\n",
    "y_test = np.loadtxt('GeneralData/y_test.txt')"
   ]
  },
  {
   "cell_type": "code",
   "execution_count": 86,
   "id": "ef52abdc",
   "metadata": {},
   "outputs": [
    {
     "data": {
      "text/plain": [
       "((7279, 1152), (7279,))"
      ]
     },
     "execution_count": 86,
     "metadata": {},
     "output_type": "execute_result"
    }
   ],
   "source": [
    "# Shape of X and y data before reshaping\n",
    "X_train.shape, y_train.shape"
   ]
  },
  {
   "cell_type": "code",
   "execution_count": 87,
   "id": "7feb1c85",
   "metadata": {},
   "outputs": [],
   "source": [
    "# Reshaping y data\n",
    "y_test = np.reshape(y_test,(y_test.shape[0],1))\n",
    "y_train = np.reshape(y_train,(y_train.shape[0],1))\n",
    "# Changing the type (int) and decrease the indexes by one - to fit it with binary class matrix (output)\n",
    "y_test = y_test.astype(int) - 1\n",
    "y_train = y_train.astype(int) - 1"
   ]
  },
  {
   "cell_type": "code",
   "execution_count": 88,
   "id": "c6b83ca1",
   "metadata": {},
   "outputs": [],
   "source": [
    "# Converts an y vectors to binary class matrix\n",
    "y_test_cat = keras.utils.to_categorical(y_test)\n",
    "y_train_cat = keras.utils.to_categorical(y_train)"
   ]
  },
  {
   "cell_type": "code",
   "execution_count": 92,
   "id": "099bb1ae",
   "metadata": {},
   "outputs": [
    {
     "data": {
      "text/plain": [
       "array([[0., 1., 0., 0., 0., 0.],\n",
       "       [0., 0., 1., 0., 0., 0.],\n",
       "       [0., 0., 0., 1., 0., 0.],\n",
       "       [0., 0., 0., 0., 1., 0.],\n",
       "       [0., 1., 0., 0., 0., 0.]], dtype=float32)"
      ]
     },
     "execution_count": 92,
     "metadata": {},
     "output_type": "execute_result"
    }
   ],
   "source": [
    "# Visualisating output\n",
    "y_test_cat[:5]"
   ]
  },
  {
   "cell_type": "code",
   "execution_count": 93,
   "id": "4969d3ca",
   "metadata": {},
   "outputs": [],
   "source": [
    "# Reshaping X data into (samples, windows-shape, compontents) \n",
    "# values from the SingalPreprocessing\n",
    "samples = 10399\n",
    "window_shape = 128\n",
    "components = 9\n",
    "\n",
    "X_test = np.reshape(X_test, (X_test.shape[0], X_test.shape[1] // components, components))\n",
    "X_train = np.reshape (X_train, (X_train.shape[0], X_train.shape[1] // components, components))"
   ]
  },
  {
   "cell_type": "code",
   "execution_count": 94,
   "id": "b0d0f704",
   "metadata": {},
   "outputs": [
    {
     "data": {
      "text/plain": [
       "((7279, 128, 9), (3120, 128, 9))"
      ]
     },
     "execution_count": 94,
     "metadata": {},
     "output_type": "execute_result"
    }
   ],
   "source": [
    "# X after reshaping\n",
    "X_train.shape, X_test.shape"
   ]
  },
  {
   "cell_type": "markdown",
   "id": "ce54e241",
   "metadata": {},
   "source": [
    "* Data is prepared to use into training process"
   ]
  },
  {
   "cell_type": "markdown",
   "id": "4e6a9162",
   "metadata": {},
   "source": [
    "# Modeling CNN\n",
    "* fitting\n",
    "* testing and evaluating"
   ]
  },
  {
   "cell_type": "code",
   "execution_count": 145,
   "id": "47a3d4df",
   "metadata": {},
   "outputs": [
    {
     "name": "stdout",
     "output_type": "stream",
     "text": [
      "Model: \"sequential_40\"\n",
      "_________________________________________________________________\n",
      " Layer (type)                Output Shape              Param #   \n",
      "=================================================================\n",
      " conv1d_78 (Conv1D)          (None, 124, 128)          5888      \n",
      "                                                                 \n",
      " conv1d_79 (Conv1D)          (None, 120, 64)           41024     \n",
      "                                                                 \n",
      " max_pooling1d_39 (MaxPoolin  (None, 60, 64)           0         \n",
      " g1D)                                                            \n",
      "                                                                 \n",
      " dropout_64 (Dropout)        (None, 60, 64)            0         \n",
      "                                                                 \n",
      " flatten_39 (Flatten)        (None, 3840)              0         \n",
      "                                                                 \n",
      " dense_78 (Dense)            (None, 120)               460920    \n",
      "                                                                 \n",
      " dropout_65 (Dropout)        (None, 120)               0         \n",
      "                                                                 \n",
      " dense_79 (Dense)            (None, 6)                 726       \n",
      "                                                                 \n",
      "=================================================================\n",
      "Total params: 508,558\n",
      "Trainable params: 508,558\n",
      "Non-trainable params: 0\n",
      "_________________________________________________________________\n"
     ]
    }
   ],
   "source": [
    "# Model creating\n",
    "model = Sequential()\n",
    "# Adding layers\n",
    "\n",
    "# first convolution, 128 filters in size 5\n",
    "model.add(Conv1D(filters=128, kernel_size=5, input_shape=X_train.shape[1:], activation='relu'))\n",
    "# second convolution, 64 filters in size 5\n",
    "model.add(Conv1D(64, 5, activation='relu'))\n",
    "# max pooling size 2\n",
    "model.add(MaxPooling1D(2))\n",
    "# only 25% of data goes on\n",
    "model.add(Dropout(0.25))\n",
    "# flattering the matrix\n",
    "model.add(Flatten())\n",
    "# deeply connected layer with 150 units\n",
    "model.add(Dense(units=120, activation='relu'))\n",
    "# only 50% of data goes on\n",
    "model.add(Dropout(0.5))\n",
    "# deeply connected layer with 6 units = 6 activities\n",
    "model.add(Dense(units=6, activation='softmax'))\n",
    "# Model Visualisation\n",
    "model.summary()"
   ]
  },
  {
   "cell_type": "code",
   "execution_count": null,
   "id": "35131825",
   "metadata": {},
   "outputs": [],
   "source": []
  }
 ],
 "metadata": {
  "kernelspec": {
   "display_name": "Python 3 (ipykernel)",
   "language": "python",
   "name": "python3"
  },
  "language_info": {
   "codemirror_mode": {
    "name": "ipython",
    "version": 3
   },
   "file_extension": ".py",
   "mimetype": "text/x-python",
   "name": "python",
   "nbconvert_exporter": "python",
   "pygments_lexer": "ipython3",
   "version": "3.10.1"
  }
 },
 "nbformat": 4,
 "nbformat_minor": 5
}

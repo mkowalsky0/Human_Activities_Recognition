{
 "cells": [
  {
   "cell_type": "markdown",
   "id": "9353ad53",
   "metadata": {},
   "source": [
    "# Convolutional neural network for the human activities recognition\n",
    "* using preprocessed data in shape (samples, window-shape, components) to train and test the model\n",
    "* analyzes motor activities based on signals from sensors\n",
    "* its six activities: walking, standing, sitting, laying, walking up and downstairs"
   ]
  },
  {
   "cell_type": "code",
   "execution_count": 1,
   "id": "ed065c2c",
   "metadata": {},
   "outputs": [],
   "source": [
    "# Importing necessary libraries\n",
    "import pandas as pd\n",
    "import numpy as np\n",
    "import matplotlib.pyplot as plt\n",
    "import glob\n",
    "from tensorflow import keras\n",
    "from keras.models import Sequential\n",
    "from keras.layers.convolutional import Conv1D, MaxPooling1D\n",
    "from keras.layers import Dense, Dropout, Flatten\n",
    "%matplotlib inline"
   ]
  },
  {
   "cell_type": "markdown",
   "id": "a4b5b3ac",
   "metadata": {},
   "source": [
    "# Loading and reshaping data"
   ]
  },
  {
   "cell_type": "code",
   "execution_count": 2,
   "id": "8aaa9e3d",
   "metadata": {},
   "outputs": [],
   "source": [
    "# Loading from the .txt files\n",
    "X_train = np.loadtxt('GeneralData/X_train.txt')\n",
    "X_test = np.loadtxt('GeneralData/X_test.txt')\n",
    "y_train = np.loadtxt('GeneralData/y_train.txt')\n",
    "y_test = np.loadtxt('GeneralData/y_test.txt')"
   ]
  },
  {
   "cell_type": "code",
   "execution_count": 3,
   "id": "ef52abdc",
   "metadata": {},
   "outputs": [
    {
     "data": {
      "text/plain": [
       "((7279, 1152), (7279,))"
      ]
     },
     "execution_count": 3,
     "metadata": {},
     "output_type": "execute_result"
    }
   ],
   "source": [
    "# Shape of X and y data before reshaping\n",
    "X_train.shape, y_train.shape"
   ]
  },
  {
   "cell_type": "code",
   "execution_count": 4,
   "id": "7feb1c85",
   "metadata": {},
   "outputs": [],
   "source": [
    "# Reshaping y data\n",
    "y_test = np.reshape(y_test,(y_test.shape[0],1))\n",
    "y_train = np.reshape(y_train,(y_train.shape[0],1))\n",
    "# Changing the type (int) and decrease the indexes by one - to fit it with binary class matrix (output)\n",
    "y_test = y_test.astype(int) - 1\n",
    "y_train = y_train.astype(int) - 1"
   ]
  },
  {
   "cell_type": "code",
   "execution_count": 5,
   "id": "c6b83ca1",
   "metadata": {},
   "outputs": [],
   "source": [
    "# Converts an y vectors to binary class matrix\n",
    "y_test_cat = keras.utils.to_categorical(y_test)\n",
    "y_train_cat = keras.utils.to_categorical(y_train)"
   ]
  },
  {
   "cell_type": "code",
   "execution_count": 6,
   "id": "099bb1ae",
   "metadata": {},
   "outputs": [
    {
     "data": {
      "text/plain": [
       "array([[0., 1., 0., 0., 0., 0.],\n",
       "       [0., 0., 1., 0., 0., 0.],\n",
       "       [0., 0., 0., 1., 0., 0.],\n",
       "       [0., 0., 0., 0., 1., 0.],\n",
       "       [0., 1., 0., 0., 0., 0.]], dtype=float32)"
      ]
     },
     "execution_count": 6,
     "metadata": {},
     "output_type": "execute_result"
    }
   ],
   "source": [
    "# Visualisating output\n",
    "y_test_cat[:5]"
   ]
  },
  {
   "cell_type": "code",
   "execution_count": 7,
   "id": "4969d3ca",
   "metadata": {},
   "outputs": [],
   "source": [
    "# Reshaping X data into (samples, windows-shape, compontents) \n",
    "# values from the SingalPreprocessing\n",
    "samples = 10399\n",
    "window_shape = 128\n",
    "components = 9\n",
    "\n",
    "X_test = np.reshape(X_test, (X_test.shape[0], X_test.shape[1] // components, components))\n",
    "X_train = np.reshape (X_train, (X_train.shape[0], X_train.shape[1] // components, components))"
   ]
  },
  {
   "cell_type": "code",
   "execution_count": 8,
   "id": "b0d0f704",
   "metadata": {},
   "outputs": [
    {
     "data": {
      "text/plain": [
       "((7279, 128, 9), (3120, 128, 9))"
      ]
     },
     "execution_count": 8,
     "metadata": {},
     "output_type": "execute_result"
    }
   ],
   "source": [
    "# X after reshaping\n",
    "X_train.shape, X_test.shape"
   ]
  },
  {
   "cell_type": "markdown",
   "id": "ce54e241",
   "metadata": {},
   "source": [
    "* Data is prepared to use into training process"
   ]
  },
  {
   "cell_type": "markdown",
   "id": "4e6a9162",
   "metadata": {},
   "source": [
    "# Modeling CNN\n",
    "* fitting\n",
    "* testing and evaluating"
   ]
  },
  {
   "cell_type": "code",
   "execution_count": 9,
   "id": "47a3d4df",
   "metadata": {},
   "outputs": [],
   "source": [
    "#Creating model\n",
    "def createModel(nr_filter, nr_kernel):\n",
    "    model = Sequential()\n",
    "    # Adding layers\n",
    "    # first convolution\n",
    "    model.add(Conv1D(filters=nr_filter, kernel_size=nr_kernel, input_shape=X_train.shape[1:], activation='relu'))\n",
    "    # second convolution, the number of filteres divided by 2\n",
    "    model.add(Conv1D(nr_filter/2, nr_kernel, activation='relu'))\n",
    "    # max pooling size 2\n",
    "    model.add(MaxPooling1D(2))\n",
    "    # only 25% of data goes on\n",
    "    model.add(Dropout(0.25))\n",
    "    # flattering the matrix\n",
    "    model.add(Flatten())\n",
    "    # deeply connected layer with 125 units\n",
    "    model.add(Dense(units=125, activation='relu'))\n",
    "    # only 50% of data goes on\n",
    "    model.add(Dropout(0.5))\n",
    "    # deeply connected layer with 6 units = 6 activities\n",
    "    model.add(Dense(units=6, activation='softmax'))\n",
    "    # Model Visualisation\n",
    "    model.summary()\n",
    "    # Model compilation\n",
    "    model.compile(optimizer='adam', loss = 'categorical_crossentropy', metrics=['accuracy'])\n",
    "    # Return model\n",
    "    return model"
   ]
  },
  {
   "cell_type": "markdown",
   "id": "a2cbf7eb",
   "metadata": {},
   "source": [
    "* the optimizer is adam\n",
    "* using categorical cross entropy because labels are one-hot represenation and more then one class\n",
    "* two dropout layers to avoid overfitting\n",
    "* activation function is ReLU"
   ]
  },
  {
   "cell_type": "code",
   "execution_count": 10,
   "id": "881fce39",
   "metadata": {},
   "outputs": [],
   "source": [
    "# Getting model with properties\n",
    "def getModel(epochs, batch, nr_filter, nr_kernel):\n",
    "    # Model creating\n",
    "    model = createModel(nr_filter,nr_kernel)\n",
    "    # Model fitting\n",
    "    model.fit(x=X_train, y=y_train_cat, epochs=epochs, batch_size=batch, validation_data=(X_test,y_test_cat))\n",
    "    # Getting model properties\n",
    "    model_feat = pd.DataFrame(model.history.history)\n",
    "    # Getting loss values\n",
    "    model_loss = model_feat[['loss','val_loss']]\n",
    "    # Return model, model loss and model properties\n",
    "    return model, model_loss, model_feat"
   ]
  },
  {
   "cell_type": "code",
   "execution_count": 11,
   "id": "2ed94e79",
   "metadata": {},
   "outputs": [],
   "source": [
    "from sklearn.metrics import classification_report, confusion_matrix\n",
    "\n",
    "# Model properties\n",
    "def propModel(model, loss):\n",
    "    # predictions of model using testing dataset\n",
    "    y_pred = model.predict(X_test)\n",
    "    # changing form of output data\n",
    "    y_pred = np.argmax(y_pred, axis=1)\n",
    "    y_real = np.argmax(y_test_cat, axis=1)\n",
    "    # showing properties\n",
    "    print('--------------------------------Classification report-')\n",
    "    print(' ')\n",
    "    print(classification_report(y_real,y_pred))\n",
    "    print(' ')\n",
    "    print('-------------------------------------Confusion matrix-')\n",
    "    print(' ')\n",
    "    print(confusion_matrix(y_real,y_pred))\n",
    "    print(' ')\n",
    "    print('-------------------------------------Loss Values plot-')\n",
    "    loss.plot()"
   ]
  },
  {
   "cell_type": "code",
   "execution_count": 19,
   "id": "91ea5180",
   "metadata": {},
   "outputs": [],
   "source": [
    "# Fitting components\n",
    "\n",
    "epochs_nr = 10 # number of epochs during the training, it is a right value when i checked a model\n",
    "batch_val = 29 # batch size 7279/29 = 251"
   ]
  },
  {
   "cell_type": "code",
   "execution_count": 20,
   "id": "675b1ebb",
   "metadata": {},
   "outputs": [
    {
     "name": "stdout",
     "output_type": "stream",
     "text": [
      "Model: \"sequential_3\"\n",
      "_________________________________________________________________\n",
      " Layer (type)                Output Shape              Param #   \n",
      "=================================================================\n",
      " conv1d_6 (Conv1D)           (None, 124, 128)          5888      \n",
      "                                                                 \n",
      " conv1d_7 (Conv1D)           (None, 120, 64)           41024     \n",
      "                                                                 \n",
      " max_pooling1d_3 (MaxPooling  (None, 60, 64)           0         \n",
      " 1D)                                                             \n",
      "                                                                 \n",
      " dropout_6 (Dropout)         (None, 60, 64)            0         \n",
      "                                                                 \n",
      " flatten_3 (Flatten)         (None, 3840)              0         \n",
      "                                                                 \n",
      " dense_6 (Dense)             (None, 125)               480125    \n",
      "                                                                 \n",
      " dropout_7 (Dropout)         (None, 125)               0         \n",
      "                                                                 \n",
      " dense_7 (Dense)             (None, 6)                 756       \n",
      "                                                                 \n",
      "=================================================================\n",
      "Total params: 527,793\n",
      "Trainable params: 527,793\n",
      "Non-trainable params: 0\n",
      "_________________________________________________________________\n",
      "Epoch 1/10\n",
      "251/251 [==============================] - 6s 23ms/step - loss: 0.4231 - accuracy: 0.8336 - val_loss: 0.1555 - val_accuracy: 0.9391\n",
      "Epoch 2/10\n",
      "251/251 [==============================] - 7s 28ms/step - loss: 0.1686 - accuracy: 0.9339 - val_loss: 0.1505 - val_accuracy: 0.9372\n",
      "Epoch 3/10\n",
      "251/251 [==============================] - 8s 31ms/step - loss: 0.1520 - accuracy: 0.9404 - val_loss: 0.1157 - val_accuracy: 0.9506\n",
      "Epoch 4/10\n",
      "251/251 [==============================] - 8s 31ms/step - loss: 0.1331 - accuracy: 0.9457 - val_loss: 0.1152 - val_accuracy: 0.9478\n",
      "Epoch 5/10\n",
      "251/251 [==============================] - 8s 32ms/step - loss: 0.1342 - accuracy: 0.9468 - val_loss: 0.1170 - val_accuracy: 0.9497\n",
      "Epoch 6/10\n",
      "251/251 [==============================] - 9s 34ms/step - loss: 0.1168 - accuracy: 0.9525 - val_loss: 0.1133 - val_accuracy: 0.9500\n",
      "Epoch 7/10\n",
      "251/251 [==============================] - 8s 33ms/step - loss: 0.1261 - accuracy: 0.9493 - val_loss: 0.1108 - val_accuracy: 0.9532\n",
      "Epoch 8/10\n",
      "251/251 [==============================] - 9s 34ms/step - loss: 0.1170 - accuracy: 0.9501 - val_loss: 0.1202 - val_accuracy: 0.9481\n",
      "Epoch 9/10\n",
      "251/251 [==============================] - 9s 35ms/step - loss: 0.1246 - accuracy: 0.9490 - val_loss: 0.1108 - val_accuracy: 0.9526\n",
      "Epoch 10/10\n",
      "251/251 [==============================] - 9s 35ms/step - loss: 0.1151 - accuracy: 0.9533 - val_loss: 0.1087 - val_accuracy: 0.9535\n"
     ]
    }
   ],
   "source": [
    "# Model: filter size = 128, kernel size = 5\n",
    "\n",
    "model1, loss1, prop1 = getModel(epochs_nr,batch_val, 128, 5)"
   ]
  },
  {
   "cell_type": "code",
   "execution_count": 22,
   "id": "959feeb9",
   "metadata": {},
   "outputs": [
    {
     "name": "stdout",
     "output_type": "stream",
     "text": [
      "--------------------------------Classification report-\n",
      " \n",
      "              precision    recall  f1-score   support\n",
      "\n",
      "           0       1.00      1.00      1.00       532\n",
      "           1       1.00      1.00      1.00       462\n",
      "           2       1.00      1.00      1.00       421\n",
      "           3       0.86      0.88      0.87       530\n",
      "           4       0.89      0.86      0.87       586\n",
      "           5       1.00      1.00      1.00       589\n",
      "\n",
      "    accuracy                           0.95      3120\n",
      "   macro avg       0.96      0.96      0.96      3120\n",
      "weighted avg       0.95      0.95      0.95      3120\n",
      "\n",
      " \n",
      "-------------------------------------Confusion matrix-\n",
      " \n",
      "[[532   0   0   0   0   0]\n",
      " [  0 462   0   0   0   0]\n",
      " [  0   0 421   0   0   0]\n",
      " [  0   0   0 466  64   0]\n",
      " [  1   1   0  79 505   0]\n",
      " [  0   0   0   0   0 589]]\n",
      " \n",
      "-------------------------------------Loss Values plot-\n"
     ]
    },
    {
     "data": {
      "image/png": "[encoded data removed]",
      "text/plain": [
       "<Figure size 432x288 with 1 Axes>"
      ]
     },
     "metadata": {
      "needs_background": "light"
     },
     "output_type": "display_data"
    }
   ],
   "source": [
    "# Properties of the model visualisation\n",
    "propModel(model1,loss1)"
   ]
  },
  {
   "cell_type": "code",
   "execution_count": 23,
   "id": "05f54831",
   "metadata": {},
   "outputs": [
    {
     "name": "stdout",
     "output_type": "stream",
     "text": [
      "Model: \"sequential_4\"\n",
      "_________________________________________________________________\n",
      " Layer (type)                Output Shape              Param #   \n",
      "=================================================================\n",
      " conv1d_8 (Conv1D)           (None, 126, 128)          3584      \n",
      "                                                                 \n",
      " conv1d_9 (Conv1D)           (None, 124, 64)           24640     \n",
      "                                                                 \n",
      " max_pooling1d_4 (MaxPooling  (None, 62, 64)           0         \n",
      " 1D)                                                             \n",
      "                                                                 \n",
      " dropout_8 (Dropout)         (None, 62, 64)            0         \n",
      "                                                                 \n",
      " flatten_4 (Flatten)         (None, 3968)              0         \n",
      "                                                                 \n",
      " dense_8 (Dense)             (None, 125)               496125    \n",
      "                                                                 \n",
      " dropout_9 (Dropout)         (None, 125)               0         \n",
      "                                                                 \n",
      " dense_9 (Dense)             (None, 6)                 756       \n",
      "                                                                 \n",
      "=================================================================\n",
      "Total params: 525,105\n",
      "Trainable params: 525,105\n",
      "Non-trainable params: 0\n",
      "_________________________________________________________________\n",
      "Epoch 1/10\n",
      "251/251 [==============================] - 7s 26ms/step - loss: 0.4751 - accuracy: 0.8151 - val_loss: 0.2119 - val_accuracy: 0.9205\n",
      "Epoch 2/10\n",
      "251/251 [==============================] - 7s 27ms/step - loss: 0.1989 - accuracy: 0.9228 - val_loss: 0.1627 - val_accuracy: 0.9311\n",
      "Epoch 3/10\n",
      "251/251 [==============================] - 7s 27ms/step - loss: 0.1581 - accuracy: 0.9420 - val_loss: 0.1263 - val_accuracy: 0.9474\n",
      "Epoch 4/10\n",
      "251/251 [==============================] - 7s 26ms/step - loss: 0.1455 - accuracy: 0.9402 - val_loss: 0.1239 - val_accuracy: 0.9468\n",
      "Epoch 5/10\n",
      "251/251 [==============================] - 7s 27ms/step - loss: 0.1262 - accuracy: 0.9489 - val_loss: 0.1258 - val_accuracy: 0.9452\n",
      "Epoch 6/10\n",
      "251/251 [==============================] - 7s 27ms/step - loss: 0.1216 - accuracy: 0.9505 - val_loss: 0.1157 - val_accuracy: 0.9510\n",
      "Epoch 7/10\n",
      "251/251 [==============================] - 7s 27ms/step - loss: 0.1259 - accuracy: 0.9496 - val_loss: 0.1479 - val_accuracy: 0.9433\n",
      "Epoch 8/10\n",
      "251/251 [==============================] - 7s 30ms/step - loss: 0.1229 - accuracy: 0.9522 - val_loss: 0.1187 - val_accuracy: 0.9465\n",
      "Epoch 9/10\n",
      "251/251 [==============================] - 7s 30ms/step - loss: 0.1167 - accuracy: 0.9532 - val_loss: 0.1622 - val_accuracy: 0.9369\n",
      "Epoch 10/10\n",
      "251/251 [==============================] - 7s 29ms/step - loss: 0.1164 - accuracy: 0.9529 - val_loss: 0.1081 - val_accuracy: 0.9510\n"
     ]
    }
   ],
   "source": [
    "# Second model: filter size = 128, kernel size = 3\n",
    "\n",
    "model2, loss2, prop2 = getModel(epochs_nr,batch_val, 128, 3)"
   ]
  },
  {
   "cell_type": "code",
   "execution_count": 24,
   "id": "810feaea",
   "metadata": {},
   "outputs": [
    {
     "name": "stdout",
     "output_type": "stream",
     "text": [
      "--------------------------------Classification report-\n",
      " \n",
      "              precision    recall  f1-score   support\n",
      "\n",
      "           0       1.00      1.00      1.00       532\n",
      "           1       1.00      1.00      1.00       462\n",
      "           2       1.00      1.00      1.00       421\n",
      "           3       0.82      0.92      0.87       530\n",
      "           4       0.91      0.82      0.86       586\n",
      "           5       1.00      1.00      1.00       589\n",
      "\n",
      "    accuracy                           0.95      3120\n",
      "   macro avg       0.96      0.95      0.95      3120\n",
      "weighted avg       0.95      0.95      0.95      3120\n",
      "\n",
      " \n",
      "-------------------------------------Confusion matrix-\n",
      " \n",
      "[[532   0   0   0   0   0]\n",
      " [  1 460   1   0   0   0]\n",
      " [  0   0 421   0   0   0]\n",
      " [  0   0   0 485  45   0]\n",
      " [  0   0   0 106 480   0]\n",
      " [  0   0   0   0   0 589]]\n",
      " \n",
      "-------------------------------------Loss Values plot-\n"
     ]
    },
    {
     "data": {
      "image/png": "[encoded data removed]",
      "text/plain": [
       "<Figure size 432x288 with 1 Axes>"
      ]
     },
     "metadata": {
      "needs_background": "light"
     },
     "output_type": "display_data"
    }
   ],
   "source": [
    "# Properties of the model visualisation\n",
    "propModel(model2,loss2)"
   ]
  },
  {
   "cell_type": "code",
   "execution_count": 25,
   "id": "5e1fe36e",
   "metadata": {},
   "outputs": [
    {
     "name": "stdout",
     "output_type": "stream",
     "text": [
      "Model: \"sequential_5\"\n",
      "_________________________________________________________________\n",
      " Layer (type)                Output Shape              Param #   \n",
      "=================================================================\n",
      " conv1d_10 (Conv1D)          (None, 122, 128)          8192      \n",
      "                                                                 \n",
      " conv1d_11 (Conv1D)          (None, 116, 64)           57408     \n",
      "                                                                 \n",
      " max_pooling1d_5 (MaxPooling  (None, 58, 64)           0         \n",
      " 1D)                                                             \n",
      "                                                                 \n",
      " dropout_10 (Dropout)        (None, 58, 64)            0         \n",
      "                                                                 \n",
      " flatten_5 (Flatten)         (None, 3712)              0         \n",
      "                                                                 \n",
      " dense_10 (Dense)            (None, 125)               464125    \n",
      "                                                                 \n",
      " dropout_11 (Dropout)        (None, 125)               0         \n",
      "                                                                 \n",
      " dense_11 (Dense)            (None, 6)                 756       \n",
      "                                                                 \n",
      "=================================================================\n",
      "Total params: 530,481\n",
      "Trainable params: 530,481\n",
      "Non-trainable params: 0\n",
      "_________________________________________________________________\n",
      "Epoch 1/10\n",
      "251/251 [==============================] - 11s 41ms/step - loss: 0.3869 - accuracy: 0.8563 - val_loss: 0.1533 - val_accuracy: 0.9397\n",
      "Epoch 2/10\n",
      "251/251 [==============================] - 11s 46ms/step - loss: 0.1778 - accuracy: 0.9312 - val_loss: 0.1810 - val_accuracy: 0.9311\n",
      "Epoch 3/10\n",
      "251/251 [==============================] - 10s 41ms/step - loss: 0.1478 - accuracy: 0.9434 - val_loss: 0.1174 - val_accuracy: 0.9474\n",
      "Epoch 4/10\n",
      "251/251 [==============================] - 10s 42ms/step - loss: 0.1258 - accuracy: 0.9490 - val_loss: 0.1136 - val_accuracy: 0.9513\n",
      "Epoch 5/10\n",
      "251/251 [==============================] - 11s 44ms/step - loss: 0.1272 - accuracy: 0.9505 - val_loss: 0.1242 - val_accuracy: 0.9487\n",
      "Epoch 6/10\n",
      "251/251 [==============================] - 15s 61ms/step - loss: 0.1371 - accuracy: 0.9472 - val_loss: 0.1151 - val_accuracy: 0.9497\n",
      "Epoch 7/10\n",
      "251/251 [==============================] - 11s 45ms/step - loss: 0.1201 - accuracy: 0.9532 - val_loss: 0.1107 - val_accuracy: 0.9487\n",
      "Epoch 8/10\n",
      "251/251 [==============================] - 11s 45ms/step - loss: 0.1149 - accuracy: 0.9536 - val_loss: 0.1190 - val_accuracy: 0.9458\n",
      "Epoch 9/10\n",
      "251/251 [==============================] - 11s 44ms/step - loss: 0.1266 - accuracy: 0.9515 - val_loss: 0.1207 - val_accuracy: 0.9478\n",
      "Epoch 10/10\n",
      "251/251 [==============================] - 11s 45ms/step - loss: 0.1173 - accuracy: 0.9534 - val_loss: 0.1269 - val_accuracy: 0.9449\n"
     ]
    }
   ],
   "source": [
    "# Next model: filter size = 128, kernel size = 7\n",
    "\n",
    "model3, loss3, prop3 = getModel(epochs_nr,batch_val, 128, 7)"
   ]
  },
  {
   "cell_type": "code",
   "execution_count": 26,
   "id": "fd7afcda",
   "metadata": {},
   "outputs": [
    {
     "name": "stdout",
     "output_type": "stream",
     "text": [
      "--------------------------------Classification report-\n",
      " \n",
      "              precision    recall  f1-score   support\n",
      "\n",
      "           0       1.00      1.00      1.00       532\n",
      "           1       1.00      1.00      1.00       462\n",
      "           2       1.00      1.00      1.00       421\n",
      "           3       0.78      0.95      0.86       530\n",
      "           4       0.94      0.75      0.84       586\n",
      "           5       1.00      1.00      1.00       589\n",
      "\n",
      "    accuracy                           0.94      3120\n",
      "   macro avg       0.95      0.95      0.95      3120\n",
      "weighted avg       0.95      0.94      0.94      3120\n",
      "\n",
      " \n",
      "-------------------------------------Confusion matrix-\n",
      " \n",
      "[[532   0   0   0   0   0]\n",
      " [  0 462   0   0   0   0]\n",
      " [  0   0 421   0   0   0]\n",
      " [  0   0   0 502  28   0]\n",
      " [  2   1   0 141 442   0]\n",
      " [  0   0   0   0   0 589]]\n",
      " \n",
      "-------------------------------------Loss Values plot-\n"
     ]
    },
    {
     "data": {
      "image/png": "[encoded data removed]",
      "text/plain": [
       "<Figure size 432x288 with 1 Axes>"
      ]
     },
     "metadata": {
      "needs_background": "light"
     },
     "output_type": "display_data"
    }
   ],
   "source": [
    "# Properties of the model visualisation\n",
    "propModel(model3,loss3)"
   ]
  },
  {
   "cell_type": "markdown",
   "id": "bd9f7817",
   "metadata": {},
   "source": [
    "* the best properties for the kernel-size: 5, for larger it is overfitted"
   ]
  },
  {
   "cell_type": "code",
   "execution_count": 31,
   "id": "365dbf63",
   "metadata": {},
   "outputs": [
    {
     "name": "stdout",
     "output_type": "stream",
     "text": [
      "Model: \"sequential_8\"\n",
      "_________________________________________________________________\n",
      " Layer (type)                Output Shape              Param #   \n",
      "=================================================================\n",
      " conv1d_16 (Conv1D)          (None, 124, 64)           2944      \n",
      "                                                                 \n",
      " conv1d_17 (Conv1D)          (None, 120, 32)           10272     \n",
      "                                                                 \n",
      " max_pooling1d_8 (MaxPooling  (None, 60, 32)           0         \n",
      " 1D)                                                             \n",
      "                                                                 \n",
      " dropout_16 (Dropout)        (None, 60, 32)            0         \n",
      "                                                                 \n",
      " flatten_8 (Flatten)         (None, 1920)              0         \n",
      "                                                                 \n",
      " dense_16 (Dense)            (None, 125)               240125    \n",
      "                                                                 \n",
      " dropout_17 (Dropout)        (None, 125)               0         \n",
      "                                                                 \n",
      " dense_17 (Dense)            (None, 6)                 756       \n",
      "                                                                 \n",
      "=================================================================\n",
      "Total params: 254,097\n",
      "Trainable params: 254,097\n",
      "Non-trainable params: 0\n",
      "_________________________________________________________________\n",
      "Epoch 1/10\n",
      "251/251 [==============================] - 4s 16ms/step - loss: 0.4570 - accuracy: 0.8259 - val_loss: 0.1857 - val_accuracy: 0.9308\n",
      "Epoch 2/10\n",
      "251/251 [==============================] - 4s 15ms/step - loss: 0.1896 - accuracy: 0.9290 - val_loss: 0.1364 - val_accuracy: 0.9410\n",
      "Epoch 3/10\n",
      "251/251 [==============================] - 4s 15ms/step - loss: 0.1637 - accuracy: 0.9386 - val_loss: 0.1438 - val_accuracy: 0.9381\n",
      "Epoch 4/10\n",
      "251/251 [==============================] - 4s 16ms/step - loss: 0.1359 - accuracy: 0.9444 - val_loss: 0.1209 - val_accuracy: 0.9478\n",
      "Epoch 5/10\n",
      "251/251 [==============================] - 4s 17ms/step - loss: 0.1341 - accuracy: 0.9467 - val_loss: 0.1234 - val_accuracy: 0.9465\n",
      "Epoch 6/10\n",
      "251/251 [==============================] - 4s 18ms/step - loss: 0.1251 - accuracy: 0.9505 - val_loss: 0.1212 - val_accuracy: 0.9484\n",
      "Epoch 7/10\n",
      "251/251 [==============================] - 5s 19ms/step - loss: 0.1164 - accuracy: 0.9504 - val_loss: 0.1133 - val_accuracy: 0.9494\n",
      "Epoch 8/10\n",
      "251/251 [==============================] - 5s 19ms/step - loss: 0.1286 - accuracy: 0.9511 - val_loss: 0.1207 - val_accuracy: 0.9429\n",
      "Epoch 9/10\n",
      "251/251 [==============================] - 5s 19ms/step - loss: 0.1212 - accuracy: 0.9503 - val_loss: 0.1094 - val_accuracy: 0.9510\n",
      "Epoch 10/10\n",
      "251/251 [==============================] - 5s 19ms/step - loss: 0.1086 - accuracy: 0.9527 - val_loss: 0.1166 - val_accuracy: 0.9487\n"
     ]
    }
   ],
   "source": [
    "# Next model: filter size = 64, kernel size = 5\n",
    "\n",
    "model4, loss4, prop4 = getModel(epochs_nr,batch_val, 64, 5)"
   ]
  },
  {
   "cell_type": "code",
   "execution_count": 32,
   "id": "595f081c",
   "metadata": {},
   "outputs": [
    {
     "name": "stdout",
     "output_type": "stream",
     "text": [
      "--------------------------------Classification report-\n",
      " \n",
      "              precision    recall  f1-score   support\n",
      "\n",
      "           0       1.00      1.00      1.00       532\n",
      "           1       1.00      1.00      1.00       462\n",
      "           2       1.00      1.00      1.00       421\n",
      "           3       0.81      0.92      0.86       530\n",
      "           4       0.91      0.81      0.86       586\n",
      "           5       1.00      1.00      1.00       589\n",
      "\n",
      "    accuracy                           0.95      3120\n",
      "   macro avg       0.95      0.95      0.95      3120\n",
      "weighted avg       0.95      0.95      0.95      3120\n",
      "\n",
      " \n",
      "-------------------------------------Confusion matrix-\n",
      " \n",
      "[[532   0   0   0   0   0]\n",
      " [  0 462   0   0   0   0]\n",
      " [  0   2 419   0   0   0]\n",
      " [  0   0   0 485  45   0]\n",
      " [  1   0   0 112 473   0]\n",
      " [  0   0   0   0   0 589]]\n",
      " \n",
      "-------------------------------------Loss Values plot-\n"
     ]
    },
    {
     "data": {
      "image/png": "[encoded data removed]",
      "text/plain": [
       "<Figure size 432x288 with 1 Axes>"
      ]
     },
     "metadata": {
      "needs_background": "light"
     },
     "output_type": "display_data"
    }
   ],
   "source": [
    "# Properties of the model visualisation\n",
    "propModel(model4,loss4)"
   ]
  },
  {
   "cell_type": "code",
   "execution_count": 36,
   "id": "487e0958",
   "metadata": {},
   "outputs": [
    {
     "name": "stdout",
     "output_type": "stream",
     "text": [
      "Model: \"sequential_11\"\n",
      "_________________________________________________________________\n",
      " Layer (type)                Output Shape              Param #   \n",
      "=================================================================\n",
      " conv1d_22 (Conv1D)          (None, 124, 32)           1472      \n",
      "                                                                 \n",
      " conv1d_23 (Conv1D)          (None, 120, 16)           2576      \n",
      "                                                                 \n",
      " max_pooling1d_11 (MaxPoolin  (None, 60, 16)           0         \n",
      " g1D)                                                            \n",
      "                                                                 \n",
      " dropout_22 (Dropout)        (None, 60, 16)            0         \n",
      "                                                                 \n",
      " flatten_11 (Flatten)        (None, 960)               0         \n",
      "                                                                 \n",
      " dense_22 (Dense)            (None, 125)               120125    \n",
      "                                                                 \n",
      " dropout_23 (Dropout)        (None, 125)               0         \n",
      "                                                                 \n",
      " dense_23 (Dense)            (None, 6)                 756       \n",
      "                                                                 \n",
      "=================================================================\n",
      "Total params: 124,929\n",
      "Trainable params: 124,929\n",
      "Non-trainable params: 0\n",
      "_________________________________________________________________\n",
      "Epoch 1/10\n",
      "251/251 [==============================] - 4s 16ms/step - loss: 0.5073 - accuracy: 0.7998 - val_loss: 0.2157 - val_accuracy: 0.9151\n",
      "Epoch 2/10\n",
      "251/251 [==============================] - 4s 15ms/step - loss: 0.2221 - accuracy: 0.9162 - val_loss: 0.1801 - val_accuracy: 0.9244\n",
      "Epoch 3/10\n",
      "251/251 [==============================] - 4s 15ms/step - loss: 0.1655 - accuracy: 0.9332 - val_loss: 0.1484 - val_accuracy: 0.9423\n",
      "Epoch 4/10\n",
      "251/251 [==============================] - 4s 16ms/step - loss: 0.1520 - accuracy: 0.9389 - val_loss: 0.1467 - val_accuracy: 0.9372\n",
      "Epoch 5/10\n",
      "251/251 [==============================] - 5s 20ms/step - loss: 0.1396 - accuracy: 0.9402 - val_loss: 0.1210 - val_accuracy: 0.9513\n",
      "Epoch 6/10\n",
      "251/251 [==============================] - 5s 20ms/step - loss: 0.1345 - accuracy: 0.9467 - val_loss: 0.1227 - val_accuracy: 0.9439\n",
      "Epoch 7/10\n",
      "251/251 [==============================] - 4s 15ms/step - loss: 0.1285 - accuracy: 0.9485 - val_loss: 0.1336 - val_accuracy: 0.9442\n",
      "Epoch 8/10\n",
      "251/251 [==============================] - 4s 16ms/step - loss: 0.1282 - accuracy: 0.9464 - val_loss: 0.1156 - val_accuracy: 0.9462\n",
      "Epoch 9/10\n",
      "251/251 [==============================] - 4s 17ms/step - loss: 0.1179 - accuracy: 0.9504 - val_loss: 0.1128 - val_accuracy: 0.9548\n",
      "Epoch 10/10\n",
      "251/251 [==============================] - 4s 15ms/step - loss: 0.1209 - accuracy: 0.9499 - val_loss: 0.1132 - val_accuracy: 0.9510\n"
     ]
    }
   ],
   "source": [
    "# Next model: filter size = 32, kernel size = 5\n",
    "\n",
    "model5, loss5, prop5 = getModel(epochs_nr,batch_val, 32, 5)"
   ]
  },
  {
   "cell_type": "code",
   "execution_count": 37,
   "id": "19218ab2",
   "metadata": {},
   "outputs": [
    {
     "name": "stdout",
     "output_type": "stream",
     "text": [
      "--------------------------------Classification report-\n",
      " \n",
      "              precision    recall  f1-score   support\n",
      "\n",
      "           0       1.00      0.99      0.99       532\n",
      "           1       1.00      1.00      1.00       462\n",
      "           2       0.99      1.00      0.99       421\n",
      "           3       0.85      0.89      0.87       530\n",
      "           4       0.89      0.85      0.87       586\n",
      "           5       1.00      1.00      1.00       589\n",
      "\n",
      "    accuracy                           0.95      3120\n",
      "   macro avg       0.95      0.95      0.95      3120\n",
      "weighted avg       0.95      0.95      0.95      3120\n",
      "\n",
      " \n",
      "-------------------------------------Confusion matrix-\n",
      " \n",
      "[[527   0   5   0   0   0]\n",
      " [  1 461   0   0   0   0]\n",
      " [  0   1 420   0   0   0]\n",
      " [  0   0   0 470  60   0]\n",
      " [  0   1   0  85 500   0]\n",
      " [  0   0   0   0   0 589]]\n",
      " \n",
      "-------------------------------------Loss Values plot-\n"
     ]
    },
    {
     "data": {
      "image/png": "[encoded data removed]",
      "text/plain": [
       "<Figure size 432x288 with 1 Axes>"
      ]
     },
     "metadata": {
      "needs_background": "light"
     },
     "output_type": "display_data"
    }
   ],
   "source": [
    "# Properties of the model visualisation\n",
    "propModel(model5,loss5)"
   ]
  },
  {
   "cell_type": "code",
   "execution_count": 38,
   "id": "e7455b1c",
   "metadata": {},
   "outputs": [
    {
     "name": "stdout",
     "output_type": "stream",
     "text": [
      "Model: \"sequential_12\"\n",
      "_________________________________________________________________\n",
      " Layer (type)                Output Shape              Param #   \n",
      "=================================================================\n",
      " conv1d_24 (Conv1D)          (None, 124, 256)          11776     \n",
      "                                                                 \n",
      " conv1d_25 (Conv1D)          (None, 120, 128)          163968    \n",
      "                                                                 \n",
      " max_pooling1d_12 (MaxPoolin  (None, 60, 128)          0         \n",
      " g1D)                                                            \n",
      "                                                                 \n",
      " dropout_24 (Dropout)        (None, 60, 128)           0         \n",
      "                                                                 \n",
      " flatten_12 (Flatten)        (None, 7680)              0         \n",
      "                                                                 \n",
      " dense_24 (Dense)            (None, 125)               960125    \n",
      "                                                                 \n",
      " dropout_25 (Dropout)        (None, 125)               0         \n",
      "                                                                 \n",
      " dense_25 (Dense)            (None, 6)                 756       \n",
      "                                                                 \n",
      "=================================================================\n",
      "Total params: 1,136,625\n",
      "Trainable params: 1,136,625\n",
      "Non-trainable params: 0\n",
      "_________________________________________________________________\n",
      "Epoch 1/10\n",
      "251/251 [==============================] - 27s 104ms/step - loss: 0.3866 - accuracy: 0.8507 - val_loss: 0.1727 - val_accuracy: 0.9330\n",
      "Epoch 2/10\n",
      "251/251 [==============================] - 24s 97ms/step - loss: 0.1555 - accuracy: 0.9379 - val_loss: 0.1244 - val_accuracy: 0.9465\n",
      "Epoch 3/10\n",
      "251/251 [==============================] - 23s 93ms/step - loss: 0.1336 - accuracy: 0.9452 - val_loss: 0.1396 - val_accuracy: 0.9378\n",
      "Epoch 4/10\n",
      "251/251 [==============================] - 23s 93ms/step - loss: 0.1482 - accuracy: 0.9396 - val_loss: 0.1228 - val_accuracy: 0.9413\n",
      "Epoch 5/10\n",
      "251/251 [==============================] - 20s 80ms/step - loss: 0.1212 - accuracy: 0.9496 - val_loss: 0.1097 - val_accuracy: 0.9497\n",
      "Epoch 6/10\n",
      "251/251 [==============================] - 18s 73ms/step - loss: 0.1210 - accuracy: 0.9482 - val_loss: 0.1142 - val_accuracy: 0.9465\n",
      "Epoch 7/10\n",
      "251/251 [==============================] - 18s 72ms/step - loss: 0.1231 - accuracy: 0.9478 - val_loss: 0.1356 - val_accuracy: 0.9458\n",
      "Epoch 8/10\n",
      "251/251 [==============================] - 21s 82ms/step - loss: 0.1236 - accuracy: 0.9514 - val_loss: 0.1131 - val_accuracy: 0.9500\n",
      "Epoch 9/10\n",
      "251/251 [==============================] - 18s 71ms/step - loss: 0.1174 - accuracy: 0.9516 - val_loss: 0.1084 - val_accuracy: 0.9542\n",
      "Epoch 10/10\n",
      "251/251 [==============================] - 18s 71ms/step - loss: 0.1259 - accuracy: 0.9490 - val_loss: 0.1169 - val_accuracy: 0.9519\n"
     ]
    }
   ],
   "source": [
    "# Next model: filter size = 256, kernel size = 5\n",
    "\n",
    "model6, loss6, prop6 = getModel(epochs_nr,batch_val, 256, 5)"
   ]
  },
  {
   "cell_type": "code",
   "execution_count": 39,
   "id": "f1cc458e",
   "metadata": {},
   "outputs": [
    {
     "name": "stdout",
     "output_type": "stream",
     "text": [
      "--------------------------------Classification report-\n",
      " \n",
      "              precision    recall  f1-score   support\n",
      "\n",
      "           0       1.00      1.00      1.00       532\n",
      "           1       1.00      1.00      1.00       462\n",
      "           2       1.00      1.00      1.00       421\n",
      "           3       0.87      0.85      0.86       530\n",
      "           4       0.86      0.89      0.88       586\n",
      "           5       1.00      1.00      1.00       589\n",
      "\n",
      "    accuracy                           0.95      3120\n",
      "   macro avg       0.96      0.95      0.95      3120\n",
      "weighted avg       0.95      0.95      0.95      3120\n",
      "\n",
      " \n",
      "-------------------------------------Confusion matrix-\n",
      " \n",
      "[[532   0   0   0   0   0]\n",
      " [  0 460   2   0   0   0]\n",
      " [  0   0 421   0   0   0]\n",
      " [  0   0   0 448  82   0]\n",
      " [  0   0   0  66 520   0]\n",
      " [  0   0   0   0   0 589]]\n",
      " \n",
      "-------------------------------------Loss Values plot-\n"
     ]
    },
    {
     "data": {
      "image/png": "[encoded data removed]",
      "text/plain": [
       "<Figure size 432x288 with 1 Axes>"
      ]
     },
     "metadata": {
      "needs_background": "light"
     },
     "output_type": "display_data"
    }
   ],
   "source": [
    "# Properties of the model visualisation\n",
    "propModel(model6,loss6)"
   ]
  },
  {
   "cell_type": "markdown",
   "id": "839ae51b",
   "metadata": {},
   "source": [
    "# Conclusions\n",
    "* the best results achieved in the model1, loss values plot looks stable during epochs\n",
    "* accuracy in each model around 95%, the highest in model1\n",
    "* models sometimes hava problems to distinguish between activities number 5 and 6\n",
    "* probably the reason is that during the sitting and standing signals from sensors are similar"
   ]
  },
  {
   "cell_type": "code",
   "execution_count": null,
   "id": "46085ef3",
   "metadata": {},
   "outputs": [],
   "source": [
    "# Saving the model\n",
    "model1.save(GeneralModel/cnn_model)"
   ]
  }
 ],
 "metadata": {
  "kernelspec": {
   "display_name": "Python 3 (ipykernel)",
   "language": "python",
   "name": "python3"
  },
  "language_info": {
   "codemirror_mode": {
    "name": "ipython",
    "version": 3
   },
   "file_extension": ".py",
   "mimetype": "text/x-python",
   "name": "python",
   "nbconvert_exporter": "python",
   "pygments_lexer": "ipython3",
   "version": "3.10.1"
  }
 },
 "nbformat": 4,
 "nbformat_minor": 5
}

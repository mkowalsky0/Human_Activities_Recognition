{
 "cells": [
  {
   "cell_type": "markdown",
   "id": "9353ad53",
   "metadata": {},
   "source": [
    "# Convolutional neural network for the human activities recognition\n",
    "* using preprocessed data in shape (samples, window-shape, components) to train and test the model\n",
    "* analyzes motor activities based on signals from sensors\n",
    "* its six activities: walking, standing, sitting, laying, walking up and downstairs"
   ]
  },
  {
   "cell_type": "code",
   "execution_count": 1,
   "id": "ed065c2c",
   "metadata": {},
   "outputs": [],
   "source": [
    "# Importing necessary libraries\n",
    "import pandas as pd\n",
    "import numpy as np\n",
    "import matplotlib.pyplot as plt\n",
    "import glob\n",
    "import seaborn as sns\n",
    "import tensorflow as tf\n",
    "from tensorflow import keras, lite\n",
    "from keras.models import Sequential\n",
    "from keras.layers.convolutional import Conv1D, MaxPooling1D\n",
    "from keras.layers import Dense, Dropout, Flatten\n",
    "%matplotlib inline"
   ]
  },
  {
   "cell_type": "markdown",
   "id": "a4b5b3ac",
   "metadata": {},
   "source": [
    "# Loading and reshaping data"
   ]
  },
  {
   "cell_type": "code",
   "execution_count": 2,
   "id": "8aaa9e3d",
   "metadata": {},
   "outputs": [],
   "source": [
    "# Loading from the .txt files\n",
    "X_train = np.loadtxt('GeneralData/X_train.txt')\n",
    "X_test = np.loadtxt('GeneralData/X_test.txt')\n",
    "y_train = np.loadtxt('GeneralData/y_train.txt')\n",
    "y_test = np.loadtxt('GeneralData/y_test.txt')"
   ]
  },
  {
   "cell_type": "code",
   "execution_count": 5,
   "id": "ef52abdc",
   "metadata": {},
   "outputs": [
    {
     "data": {
      "text/plain": [
       "((7279, 1152), (7279,))"
      ]
     },
     "execution_count": 5,
     "metadata": {},
     "output_type": "execute_result"
    }
   ],
   "source": [
    "# Shape of X and y data before reshaping\n",
    "X_train.shape, y_train.shape"
   ]
  },
  {
   "cell_type": "code",
   "execution_count": 6,
   "id": "7feb1c85",
   "metadata": {},
   "outputs": [],
   "source": [
    "# Reshaping y data\n",
    "y_test = np.reshape(y_test,(y_test.shape[0],1))\n",
    "y_train = np.reshape(y_train,(y_train.shape[0],1))\n",
    "# Changing the type (int) and decrease the indexes by one - to fit it with binary class matrix (output)\n",
    "y_test = y_test.astype(int) - 1\n",
    "y_train = y_train.astype(int) - 1"
   ]
  },
  {
   "cell_type": "code",
   "execution_count": 7,
   "id": "c6b83ca1",
   "metadata": {},
   "outputs": [],
   "source": [
    "# Converts an y vectors to binary class matrix\n",
    "y_test_cat = keras.utils.to_categorical(y_test)\n",
    "y_train_cat = keras.utils.to_categorical(y_train)"
   ]
  },
  {
   "cell_type": "code",
   "execution_count": 8,
   "id": "099bb1ae",
   "metadata": {},
   "outputs": [
    {
     "data": {
      "text/plain": [
       "array([[0., 1., 0., 0., 0., 0.],\n",
       "       [0., 0., 1., 0., 0., 0.],\n",
       "       [0., 0., 0., 1., 0., 0.],\n",
       "       [0., 0., 0., 0., 1., 0.],\n",
       "       [0., 1., 0., 0., 0., 0.]], dtype=float32)"
      ]
     },
     "execution_count": 8,
     "metadata": {},
     "output_type": "execute_result"
    }
   ],
   "source": [
    "# Visualisating output\n",
    "y_test_cat[:5]"
   ]
  },
  {
   "cell_type": "code",
   "execution_count": 9,
   "id": "4969d3ca",
   "metadata": {},
   "outputs": [],
   "source": [
    "# Reshaping X data into (samples, windows-shape, compontents) \n",
    "# values from the SingalPreprocessing\n",
    "samples = 10399\n",
    "window_shape = 128\n",
    "components = 9\n",
    "\n",
    "X_test = np.reshape(X_test, (X_test.shape[0], X_test.shape[1] // components, components))\n",
    "X_train = np.reshape (X_train, (X_train.shape[0], X_train.shape[1] // components, components))"
   ]
  },
  {
   "cell_type": "code",
   "execution_count": 10,
   "id": "b0d0f704",
   "metadata": {},
   "outputs": [
    {
     "data": {
      "text/plain": [
       "((7279, 128, 9), (3120, 128, 9))"
      ]
     },
     "execution_count": 10,
     "metadata": {},
     "output_type": "execute_result"
    }
   ],
   "source": [
    "# X after reshaping\n",
    "X_train.shape, X_test.shape"
   ]
  },
  {
   "cell_type": "markdown",
   "id": "ce54e241",
   "metadata": {},
   "source": [
    "* Data is prepared to use into training process"
   ]
  },
  {
   "cell_type": "markdown",
   "id": "4e6a9162",
   "metadata": {},
   "source": [
    "# Modeling CNN\n",
    "* fitting\n",
    "* testing and evaluating"
   ]
  },
  {
   "cell_type": "code",
   "execution_count": 78,
   "id": "47a3d4df",
   "metadata": {},
   "outputs": [],
   "source": [
    "#Creating model\n",
    "def createModel(nr_filter, nr_kernel):\n",
    "    model = Sequential()\n",
    "    # Adding layers\n",
    "    # first convolution\n",
    "    model.add(Conv1D(filters=nr_filter, kernel_size=nr_kernel, input_shape=X_train.shape[1:], activation='relu'))\n",
    "    # second convolution, the number of filteres divided by 2\n",
    "    model.add(Conv1D(nr_filter/2, nr_kernel, activation='relu'))\n",
    "    # max pooling size 2\n",
    "    model.add(MaxPooling1D(2))\n",
    "    # only 50% of data goes on\n",
    "    model.add(Dropout(0.5))\n",
    "    # flattering the matrix\n",
    "    model.add(Flatten())\n",
    "    # deeply connected layer with 125 units\n",
    "    model.add(Dense(units=125, activation='relu'))\n",
    "    # deeply connected layer with 6 units = 6 activities\n",
    "    model.add(Dense(units=6, activation='softmax'))\n",
    "    # Model Visualisation\n",
    "    model.summary()\n",
    "    # Model compilation\n",
    "    model.compile(optimizer='adam', loss = 'categorical_crossentropy', metrics=['accuracy'])\n",
    "    # Return model\n",
    "    return model"
   ]
  },
  {
   "cell_type": "markdown",
   "id": "a2cbf7eb",
   "metadata": {},
   "source": [
    "* the optimizer is adam\n",
    "* using categorical cross entropy because labels are one-hot represenation and more then one class\n",
    "* two dropout layers to avoid overfitting\n",
    "* activation function is ReLU"
   ]
  },
  {
   "cell_type": "code",
   "execution_count": 53,
   "id": "881fce39",
   "metadata": {},
   "outputs": [],
   "source": [
    "# Getting model with properties\n",
    "def getModel(epochs, batch, nr_filter, nr_kernel):\n",
    "    # Model creating\n",
    "    model = createModel(nr_filter,nr_kernel)\n",
    "    # Model fitting\n",
    "    model.fit(x=X_train, y=y_train_cat, epochs=epochs, batch_size=batch, validation_data=(X_test,y_test_cat))\n",
    "    # Getting model properties\n",
    "    model_feat = pd.DataFrame(model.history.history)\n",
    "    # Getting loss values\n",
    "    model_loss = model_feat[['loss','val_loss']]\n",
    "    # Return model, model loss and model properties\n",
    "    return model, model_loss, model_feat"
   ]
  },
  {
   "cell_type": "code",
   "execution_count": 54,
   "id": "2ed94e79",
   "metadata": {},
   "outputs": [],
   "source": [
    "from sklearn.metrics import classification_report, confusion_matrix\n",
    "\n",
    "# Model properties\n",
    "def propModel(model, loss):\n",
    "    # predictions of model using testing dataset\n",
    "    y_pred = model.predict(X_test)\n",
    "    # changing form of output data\n",
    "    y_pred = np.argmax(y_pred, axis=1)\n",
    "    y_real = np.argmax(y_test_cat, axis=1)\n",
    "    # showing properties\n",
    "    print('--------------------------------Classification report-')\n",
    "    print(' ')\n",
    "    print(classification_report(y_real,y_pred))\n",
    "    print(' ')\n",
    "    print('-------------------------------------Confusion matrix-')\n",
    "    print(' ')\n",
    "    print(confusion_matrix(y_real,y_pred))\n",
    "    print(' ')\n",
    "    print('-------------------------------------Loss Values plot-')\n",
    "    loss.plot()"
   ]
  },
  {
   "cell_type": "code",
   "execution_count": 55,
   "id": "91ea5180",
   "metadata": {},
   "outputs": [],
   "source": [
    "# Fitting components\n",
    "\n",
    "epochs_nr = 11 # number of epochs during the training, it is a right value when i checked a model\n",
    "batch_val = 29 # batch size 7279/29 = 251"
   ]
  },
  {
   "cell_type": "code",
   "execution_count": 56,
   "id": "675b1ebb",
   "metadata": {},
   "outputs": [
    {
     "name": "stdout",
     "output_type": "stream",
     "text": [
      "Model: \"sequential_14\"\n",
      "_________________________________________________________________\n",
      " Layer (type)                Output Shape              Param #   \n",
      "=================================================================\n",
      " conv1d_28 (Conv1D)          (None, 124, 128)          5888      \n",
      "                                                                 \n",
      " conv1d_29 (Conv1D)          (None, 120, 64)           41024     \n",
      "                                                                 \n",
      " max_pooling1d_14 (MaxPoolin  (None, 60, 64)           0         \n",
      " g1D)                                                            \n",
      "                                                                 \n",
      " dropout_22 (Dropout)        (None, 60, 64)            0         \n",
      "                                                                 \n",
      " flatten_14 (Flatten)        (None, 3840)              0         \n",
      "                                                                 \n",
      " dense_28 (Dense)            (None, 125)               480125    \n",
      "                                                                 \n",
      " dense_29 (Dense)            (None, 6)                 756       \n",
      "                                                                 \n",
      "=================================================================\n",
      "Total params: 527,793\n",
      "Trainable params: 527,793\n",
      "Non-trainable params: 0\n",
      "_________________________________________________________________\n",
      "Epoch 1/11\n",
      "251/251 [==============================] - 9s 32ms/step - loss: 0.3569 - accuracy: 0.8557 - val_loss: 0.2099 - val_accuracy: 0.9234\n",
      "Epoch 2/11\n",
      "251/251 [==============================] - 9s 36ms/step - loss: 0.1592 - accuracy: 0.9371 - val_loss: 0.1694 - val_accuracy: 0.9295\n",
      "Epoch 3/11\n",
      "251/251 [==============================] - 9s 37ms/step - loss: 0.1327 - accuracy: 0.9444 - val_loss: 0.1288 - val_accuracy: 0.9471\n",
      "Epoch 4/11\n",
      "251/251 [==============================] - 9s 38ms/step - loss: 0.1315 - accuracy: 0.9464 - val_loss: 0.1355 - val_accuracy: 0.9442\n",
      "Epoch 5/11\n",
      "251/251 [==============================] - 10s 38ms/step - loss: 0.1351 - accuracy: 0.9494 - val_loss: 0.1217 - val_accuracy: 0.9494\n",
      "Epoch 6/11\n",
      "251/251 [==============================] - 10s 39ms/step - loss: 0.1219 - accuracy: 0.9496 - val_loss: 0.1176 - val_accuracy: 0.9490\n",
      "Epoch 7/11\n",
      "251/251 [==============================] - 10s 39ms/step - loss: 0.1222 - accuracy: 0.9494 - val_loss: 0.1354 - val_accuracy: 0.9429\n",
      "Epoch 8/11\n",
      "251/251 [==============================] - 10s 39ms/step - loss: 0.1111 - accuracy: 0.9545 - val_loss: 0.1219 - val_accuracy: 0.9455\n",
      "Epoch 9/11\n",
      "251/251 [==============================] - 10s 39ms/step - loss: 0.1059 - accuracy: 0.9562 - val_loss: 0.1196 - val_accuracy: 0.9494\n",
      "Epoch 10/11\n",
      "251/251 [==============================] - 10s 40ms/step - loss: 0.1093 - accuracy: 0.9545 - val_loss: 0.1317 - val_accuracy: 0.9433\n",
      "Epoch 11/11\n",
      "251/251 [==============================] - 10s 41ms/step - loss: 0.1159 - accuracy: 0.9515 - val_loss: 0.1582 - val_accuracy: 0.9417\n"
     ]
    }
   ],
   "source": [
    "# Model: filter size = 128, kernel size = 5\n",
    "\n",
    "model1, loss1, prop1 = getModel(epochs_nr,batch_val, 128, 5)"
   ]
  },
  {
   "cell_type": "code",
   "execution_count": 57,
   "id": "959feeb9",
   "metadata": {},
   "outputs": [
    {
     "name": "stdout",
     "output_type": "stream",
     "text": [
      "98/98 [==============================] - 1s 11ms/step\n",
      "--------------------------------Classification report-\n",
      " \n",
      "              precision    recall  f1-score   support\n",
      "\n",
      "           0       0.98      1.00      0.99       532\n",
      "           1       0.97      1.00      0.98       462\n",
      "           2       1.00      0.94      0.97       421\n",
      "           3       0.87      0.84      0.86       530\n",
      "           4       0.86      0.88      0.87       586\n",
      "           5       1.00      1.00      1.00       589\n",
      "\n",
      "    accuracy                           0.94      3120\n",
      "   macro avg       0.94      0.94      0.94      3120\n",
      "weighted avg       0.94      0.94      0.94      3120\n",
      "\n",
      " \n",
      "-------------------------------------Confusion matrix-\n",
      " \n",
      "[[530   0   0   0   2   0]\n",
      " [  2 460   0   0   0   0]\n",
      " [ 10  16 395   0   0   0]\n",
      " [  0   0   0 446  84   0]\n",
      " [  1   0   0  67 518   0]\n",
      " [  0   0   0   0   0 589]]\n",
      " \n",
      "-------------------------------------Loss Values plot-\n"
     ]
    },
    {
     "data": {
      "image/png": "[encoded data removed]",
      "text/plain": [
       "<Figure size 432x288 with 1 Axes>"
      ]
     },
     "metadata": {
      "needs_background": "light"
     },
     "output_type": "display_data"
    }
   ],
   "source": [
    "# Properties of the model visualisation\n",
    "propModel(model1,loss1)"
   ]
  },
  {
   "cell_type": "code",
   "execution_count": 58,
   "id": "05f54831",
   "metadata": {},
   "outputs": [
    {
     "name": "stdout",
     "output_type": "stream",
     "text": [
      "Model: \"sequential_15\"\n",
      "_________________________________________________________________\n",
      " Layer (type)                Output Shape              Param #   \n",
      "=================================================================\n",
      " conv1d_30 (Conv1D)          (None, 126, 128)          3584      \n",
      "                                                                 \n",
      " conv1d_31 (Conv1D)          (None, 124, 64)           24640     \n",
      "                                                                 \n",
      " max_pooling1d_15 (MaxPoolin  (None, 62, 64)           0         \n",
      " g1D)                                                            \n",
      "                                                                 \n",
      " dropout_23 (Dropout)        (None, 62, 64)            0         \n",
      "                                                                 \n",
      " flatten_15 (Flatten)        (None, 3968)              0         \n",
      "                                                                 \n",
      " dense_30 (Dense)            (None, 125)               496125    \n",
      "                                                                 \n",
      " dense_31 (Dense)            (None, 6)                 756       \n",
      "                                                                 \n",
      "=================================================================\n",
      "Total params: 525,105\n",
      "Trainable params: 525,105\n",
      "Non-trainable params: 0\n",
      "_________________________________________________________________\n",
      "Epoch 1/11\n",
      "251/251 [==============================] - 8s 30ms/step - loss: 0.3730 - accuracy: 0.8511 - val_loss: 0.1869 - val_accuracy: 0.9260\n",
      "Epoch 2/11\n",
      "251/251 [==============================] - 7s 29ms/step - loss: 0.1743 - accuracy: 0.9338 - val_loss: 0.1593 - val_accuracy: 0.9288\n",
      "Epoch 3/11\n",
      "251/251 [==============================] - 8s 30ms/step - loss: 0.1521 - accuracy: 0.9397 - val_loss: 0.1537 - val_accuracy: 0.9407\n",
      "Epoch 4/11\n",
      "251/251 [==============================] - 8s 31ms/step - loss: 0.1307 - accuracy: 0.9461 - val_loss: 0.1334 - val_accuracy: 0.9458\n",
      "Epoch 5/11\n",
      "251/251 [==============================] - 8s 32ms/step - loss: 0.1261 - accuracy: 0.9483 - val_loss: 0.1444 - val_accuracy: 0.9446\n",
      "Epoch 6/11\n",
      "251/251 [==============================] - 8s 31ms/step - loss: 0.1174 - accuracy: 0.9500 - val_loss: 0.1775 - val_accuracy: 0.9285\n",
      "Epoch 7/11\n",
      "251/251 [==============================] - 8s 32ms/step - loss: 0.1205 - accuracy: 0.9493 - val_loss: 0.1240 - val_accuracy: 0.9449\n",
      "Epoch 8/11\n",
      "251/251 [==============================] - 8s 33ms/step - loss: 0.1158 - accuracy: 0.9518 - val_loss: 0.1257 - val_accuracy: 0.9462\n",
      "Epoch 9/11\n",
      "251/251 [==============================] - 8s 32ms/step - loss: 0.1197 - accuracy: 0.9519 - val_loss: 0.1319 - val_accuracy: 0.9468\n",
      "Epoch 10/11\n",
      "251/251 [==============================] - 8s 32ms/step - loss: 0.1077 - accuracy: 0.9556 - val_loss: 0.1180 - val_accuracy: 0.9474\n",
      "Epoch 11/11\n",
      "251/251 [==============================] - 8s 33ms/step - loss: 0.1031 - accuracy: 0.9559 - val_loss: 0.1209 - val_accuracy: 0.9487\n"
     ]
    }
   ],
   "source": [
    "# Second model: filter size = 128, kernel size = 3\n",
    "\n",
    "model2, loss2, prop2 = getModel(epochs_nr,batch_val, 128, 3)"
   ]
  },
  {
   "cell_type": "code",
   "execution_count": 59,
   "id": "c3a89ebb",
   "metadata": {},
   "outputs": [
    {
     "name": "stdout",
     "output_type": "stream",
     "text": [
      "98/98 [==============================] - 1s 5ms/step\n",
      "--------------------------------Classification report-\n",
      " \n",
      "              precision    recall  f1-score   support\n",
      "\n",
      "           0       0.99      0.98      0.99       532\n",
      "           1       0.98      1.00      0.99       462\n",
      "           2       0.99      1.00      0.99       421\n",
      "           3       0.86      0.87      0.86       530\n",
      "           4       0.88      0.86      0.87       586\n",
      "           5       1.00      1.00      1.00       589\n",
      "\n",
      "    accuracy                           0.95      3120\n",
      "   macro avg       0.95      0.95      0.95      3120\n",
      "weighted avg       0.95      0.95      0.95      3120\n",
      "\n",
      " \n",
      "-------------------------------------Confusion matrix-\n",
      " \n",
      "[[523   5   4   0   0   0]\n",
      " [  1 461   0   0   0   0]\n",
      " [  0   2 419   0   0   0]\n",
      " [  1   1   0 462  66   0]\n",
      " [  2   1   0  77 506   0]\n",
      " [  0   0   0   0   0 589]]\n",
      " \n",
      "-------------------------------------Loss Values plot-\n"
     ]
    },
    {
     "data": {
      "image/png": "[encoded data removed]",
      "text/plain": [
       "<Figure size 432x288 with 1 Axes>"
      ]
     },
     "metadata": {
      "needs_background": "light"
     },
     "output_type": "display_data"
    }
   ],
   "source": [
    "# Properties of the model visualisation\n",
    "propModel(model2,loss2)"
   ]
  },
  {
   "cell_type": "code",
   "execution_count": 60,
   "id": "76439f54",
   "metadata": {},
   "outputs": [
    {
     "name": "stdout",
     "output_type": "stream",
     "text": [
      "Model: \"sequential_16\"\n",
      "_________________________________________________________________\n",
      " Layer (type)                Output Shape              Param #   \n",
      "=================================================================\n",
      " conv1d_32 (Conv1D)          (None, 122, 128)          8192      \n",
      "                                                                 \n",
      " conv1d_33 (Conv1D)          (None, 116, 64)           57408     \n",
      "                                                                 \n",
      " max_pooling1d_16 (MaxPoolin  (None, 58, 64)           0         \n",
      " g1D)                                                            \n",
      "                                                                 \n",
      " dropout_24 (Dropout)        (None, 58, 64)            0         \n",
      "                                                                 \n",
      " flatten_16 (Flatten)        (None, 3712)              0         \n",
      "                                                                 \n",
      " dense_32 (Dense)            (None, 125)               464125    \n",
      "                                                                 \n",
      " dense_33 (Dense)            (None, 6)                 756       \n",
      "                                                                 \n",
      "=================================================================\n",
      "Total params: 530,481\n",
      "Trainable params: 530,481\n",
      "Non-trainable params: 0\n",
      "_________________________________________________________________\n",
      "Epoch 1/11\n",
      "251/251 [==============================] - 11s 43ms/step - loss: 0.3531 - accuracy: 0.8597 - val_loss: 0.1827 - val_accuracy: 0.9250\n",
      "Epoch 2/11\n",
      "251/251 [==============================] - 12s 47ms/step - loss: 0.1509 - accuracy: 0.9404 - val_loss: 0.1583 - val_accuracy: 0.9349\n",
      "Epoch 3/11\n",
      "251/251 [==============================] - 12s 47ms/step - loss: 0.1392 - accuracy: 0.9426 - val_loss: 0.1312 - val_accuracy: 0.9458\n",
      "Epoch 4/11\n",
      "251/251 [==============================] - 12s 47ms/step - loss: 0.1251 - accuracy: 0.9501 - val_loss: 0.1325 - val_accuracy: 0.9497\n",
      "Epoch 5/11\n",
      "251/251 [==============================] - 12s 49ms/step - loss: 0.1189 - accuracy: 0.9511 - val_loss: 0.1431 - val_accuracy: 0.9429\n",
      "Epoch 6/11\n",
      "251/251 [==============================] - 13s 52ms/step - loss: 0.1144 - accuracy: 0.9530 - val_loss: 0.1151 - val_accuracy: 0.9510\n",
      "Epoch 7/11\n",
      "251/251 [==============================] - 12s 50ms/step - loss: 0.1163 - accuracy: 0.9534 - val_loss: 0.1410 - val_accuracy: 0.9417\n",
      "Epoch 8/11\n",
      "251/251 [==============================] - 13s 51ms/step - loss: 0.1213 - accuracy: 0.9504 - val_loss: 0.1516 - val_accuracy: 0.9449\n",
      "Epoch 9/11\n",
      "251/251 [==============================] - 13s 53ms/step - loss: 0.1403 - accuracy: 0.9459 - val_loss: 0.1312 - val_accuracy: 0.9465\n",
      "Epoch 10/11\n",
      "251/251 [==============================] - 14s 56ms/step - loss: 0.1090 - accuracy: 0.9545 - val_loss: 0.1183 - val_accuracy: 0.9506\n",
      "Epoch 11/11\n",
      "251/251 [==============================] - 16s 66ms/step - loss: 0.1060 - accuracy: 0.9565 - val_loss: 0.1104 - val_accuracy: 0.9503\n"
     ]
    }
   ],
   "source": [
    "# Next model: filter size = 128, kernel size = 7\n",
    "\n",
    "model3, loss3, prop3 = getModel(epochs_nr,batch_val, 128, 7)"
   ]
  },
  {
   "cell_type": "code",
   "execution_count": 61,
   "id": "a0e13a1e",
   "metadata": {},
   "outputs": [
    {
     "name": "stdout",
     "output_type": "stream",
     "text": [
      "98/98 [==============================] - 1s 11ms/step\n",
      "--------------------------------Classification report-\n",
      " \n",
      "              precision    recall  f1-score   support\n",
      "\n",
      "           0       1.00      1.00      1.00       532\n",
      "           1       1.00      1.00      1.00       462\n",
      "           2       1.00      1.00      1.00       421\n",
      "           3       0.82      0.92      0.87       530\n",
      "           4       0.92      0.81      0.86       586\n",
      "           5       1.00      1.00      1.00       589\n",
      "\n",
      "    accuracy                           0.95      3120\n",
      "   macro avg       0.95      0.95      0.95      3120\n",
      "weighted avg       0.95      0.95      0.95      3120\n",
      "\n",
      " \n",
      "-------------------------------------Confusion matrix-\n",
      " \n",
      "[[532   0   0   0   0   0]\n",
      " [  1 461   0   0   0   0]\n",
      " [  0   1 420   0   0   0]\n",
      " [  0   0   0 486  44   0]\n",
      " [  1   1   0 107 477   0]\n",
      " [  0   0   0   0   0 589]]\n",
      " \n",
      "-------------------------------------Loss Values plot-\n"
     ]
    },
    {
     "data": {
      "image/png": "[encoded data removed]",
      "text/plain": [
       "<Figure size 432x288 with 1 Axes>"
      ]
     },
     "metadata": {
      "needs_background": "light"
     },
     "output_type": "display_data"
    }
   ],
   "source": [
    "# Properties of the model visualisation\n",
    "propModel(model3,loss3)"
   ]
  },
  {
   "cell_type": "code",
   "execution_count": 79,
   "id": "5895d641",
   "metadata": {},
   "outputs": [
    {
     "name": "stdout",
     "output_type": "stream",
     "text": [
      "Model: \"sequential_25\"\n",
      "_________________________________________________________________\n",
      " Layer (type)                Output Shape              Param #   \n",
      "=================================================================\n",
      " conv1d_50 (Conv1D)          (None, 118, 128)          12800     \n",
      "                                                                 \n",
      " conv1d_51 (Conv1D)          (None, 108, 64)           90176     \n",
      "                                                                 \n",
      " max_pooling1d_25 (MaxPoolin  (None, 54, 64)           0         \n",
      " g1D)                                                            \n",
      "                                                                 \n",
      " dropout_33 (Dropout)        (None, 54, 64)            0         \n",
      "                                                                 \n",
      " flatten_25 (Flatten)        (None, 3456)              0         \n",
      "                                                                 \n",
      " dense_50 (Dense)            (None, 125)               432125    \n",
      "                                                                 \n",
      " dense_51 (Dense)            (None, 6)                 756       \n",
      "                                                                 \n",
      "=================================================================\n",
      "Total params: 535,857\n",
      "Trainable params: 535,857\n",
      "Non-trainable params: 0\n",
      "_________________________________________________________________\n",
      "Epoch 1/11\n",
      "251/251 [==============================] - 15s 57ms/step - loss: 0.3541 - accuracy: 0.8538 - val_loss: 0.1622 - val_accuracy: 0.9279\n",
      "Epoch 2/11\n",
      "251/251 [==============================] - 16s 62ms/step - loss: 0.1566 - accuracy: 0.9361 - val_loss: 0.1289 - val_accuracy: 0.9426\n",
      "Epoch 3/11\n",
      "251/251 [==============================] - 16s 64ms/step - loss: 0.1434 - accuracy: 0.9434 - val_loss: 0.1599 - val_accuracy: 0.9353\n",
      "Epoch 4/11\n",
      "251/251 [==============================] - 17s 66ms/step - loss: 0.1221 - accuracy: 0.9492 - val_loss: 0.1416 - val_accuracy: 0.9462\n",
      "Epoch 5/11\n",
      "251/251 [==============================] - 17s 69ms/step - loss: 0.1194 - accuracy: 0.9485 - val_loss: 0.2834 - val_accuracy: 0.9131\n",
      "Epoch 6/11\n",
      "251/251 [==============================] - 18s 71ms/step - loss: 0.1435 - accuracy: 0.9444 - val_loss: 0.1231 - val_accuracy: 0.9494\n",
      "Epoch 7/11\n",
      "251/251 [==============================] - 18s 71ms/step - loss: 0.1173 - accuracy: 0.9497 - val_loss: 0.1104 - val_accuracy: 0.9513\n",
      "Epoch 8/11\n",
      "251/251 [==============================] - 19s 76ms/step - loss: 0.1112 - accuracy: 0.9537 - val_loss: 0.1129 - val_accuracy: 0.9497\n",
      "Epoch 9/11\n",
      "251/251 [==============================] - 18s 73ms/step - loss: 0.1114 - accuracy: 0.9525 - val_loss: 0.1102 - val_accuracy: 0.9500\n",
      "Epoch 10/11\n",
      "251/251 [==============================] - 21s 82ms/step - loss: 0.1284 - accuracy: 0.9500 - val_loss: 0.1233 - val_accuracy: 0.9455\n",
      "Epoch 11/11\n",
      "251/251 [==============================] - 18s 73ms/step - loss: 0.1303 - accuracy: 0.9518 - val_loss: 0.1225 - val_accuracy: 0.9487\n"
     ]
    }
   ],
   "source": [
    "# Next model: filter size = 64, kernel size = 11\n",
    "\n",
    "model4, loss4, prop4 = getModel(epochs_nr,batch_val, 128, 11)"
   ]
  },
  {
   "cell_type": "code",
   "execution_count": 80,
   "id": "2fd3cd0b",
   "metadata": {},
   "outputs": [
    {
     "name": "stdout",
     "output_type": "stream",
     "text": [
      "98/98 [==============================] - 1s 13ms/step\n",
      "--------------------------------Classification report-\n",
      " \n",
      "              precision    recall  f1-score   support\n",
      "\n",
      "           0       1.00      1.00      1.00       532\n",
      "           1       1.00      1.00      1.00       462\n",
      "           2       1.00      1.00      1.00       421\n",
      "           3       0.84      0.87      0.85       530\n",
      "           4       0.88      0.84      0.86       586\n",
      "           5       1.00      1.00      1.00       589\n",
      "\n",
      "    accuracy                           0.95      3120\n",
      "   macro avg       0.95      0.95      0.95      3120\n",
      "weighted avg       0.95      0.95      0.95      3120\n",
      "\n",
      " \n",
      "-------------------------------------Confusion matrix-\n",
      " \n",
      "[[532   0   0   0   0   0]\n",
      " [  0 462   0   0   0   0]\n",
      " [  0   0 421   0   0   0]\n",
      " [  0   0   0 462  68   0]\n",
      " [  0   1   0  91 494   0]\n",
      " [  0   0   0   0   0 589]]\n",
      " \n",
      "-------------------------------------Loss Values plot-\n"
     ]
    },
    {
     "data": {
      "image/png": "[encoded data removed]",
      "text/plain": [
       "<Figure size 432x288 with 1 Axes>"
      ]
     },
     "metadata": {
      "needs_background": "light"
     },
     "output_type": "display_data"
    }
   ],
   "source": [
    "# Properties of the model visualisation\n",
    "propModel(model4,loss4)"
   ]
  },
  {
   "cell_type": "markdown",
   "id": "03928b7f",
   "metadata": {},
   "source": [
    "* the best properties for the kernel-size: 7, for lower is overfitted, larger is with higher loss value"
   ]
  },
  {
   "cell_type": "code",
   "execution_count": 74,
   "id": "d062a338",
   "metadata": {},
   "outputs": [
    {
     "name": "stdout",
     "output_type": "stream",
     "text": [
      "Model: \"sequential_23\"\n",
      "_________________________________________________________________\n",
      " Layer (type)                Output Shape              Param #   \n",
      "=================================================================\n",
      " conv1d_46 (Conv1D)          (None, 122, 64)           4096      \n",
      "                                                                 \n",
      " conv1d_47 (Conv1D)          (None, 116, 32)           14368     \n",
      "                                                                 \n",
      " max_pooling1d_23 (MaxPoolin  (None, 58, 32)           0         \n",
      " g1D)                                                            \n",
      "                                                                 \n",
      " dropout_31 (Dropout)        (None, 58, 32)            0         \n",
      "                                                                 \n",
      " flatten_23 (Flatten)        (None, 1856)              0         \n",
      "                                                                 \n",
      " dense_46 (Dense)            (None, 125)               232125    \n",
      "                                                                 \n",
      " dense_47 (Dense)            (None, 6)                 756       \n",
      "                                                                 \n",
      "=================================================================\n",
      "Total params: 251,345\n",
      "Trainable params: 251,345\n",
      "Non-trainable params: 0\n",
      "_________________________________________________________________\n",
      "Epoch 1/11\n",
      "251/251 [==============================] - 6s 24ms/step - loss: 0.3940 - accuracy: 0.8353 - val_loss: 0.1677 - val_accuracy: 0.9260\n",
      "Epoch 2/11\n",
      "251/251 [==============================] - 6s 25ms/step - loss: 0.1610 - accuracy: 0.9309 - val_loss: 0.1366 - val_accuracy: 0.9462\n",
      "Epoch 3/11\n",
      "251/251 [==============================] - 6s 26ms/step - loss: 0.1457 - accuracy: 0.9412 - val_loss: 0.1334 - val_accuracy: 0.9446\n",
      "Epoch 4/11\n",
      "251/251 [==============================] - 7s 29ms/step - loss: 0.1260 - accuracy: 0.9468 - val_loss: 0.1268 - val_accuracy: 0.9462\n",
      "Epoch 5/11\n",
      "251/251 [==============================] - 7s 28ms/step - loss: 0.1222 - accuracy: 0.9492 - val_loss: 0.1215 - val_accuracy: 0.9462\n",
      "Epoch 6/11\n",
      "251/251 [==============================] - 7s 29ms/step - loss: 0.1145 - accuracy: 0.9510 - val_loss: 0.1188 - val_accuracy: 0.9474\n",
      "Epoch 7/11\n",
      "251/251 [==============================] - 7s 28ms/step - loss: 0.1158 - accuracy: 0.9527 - val_loss: 0.1267 - val_accuracy: 0.9497\n",
      "Epoch 8/11\n",
      "251/251 [==============================] - 8s 31ms/step - loss: 0.1243 - accuracy: 0.9493 - val_loss: 0.1173 - val_accuracy: 0.9513\n",
      "Epoch 9/11\n",
      "251/251 [==============================] - 7s 29ms/step - loss: 0.1118 - accuracy: 0.9526 - val_loss: 0.1139 - val_accuracy: 0.9471\n",
      "Epoch 10/11\n",
      "251/251 [==============================] - 7s 29ms/step - loss: 0.1085 - accuracy: 0.9559 - val_loss: 0.1147 - val_accuracy: 0.9481\n",
      "Epoch 11/11\n",
      "251/251 [==============================] - 7s 30ms/step - loss: 0.1124 - accuracy: 0.9522 - val_loss: 0.1187 - val_accuracy: 0.9490\n"
     ]
    }
   ],
   "source": [
    "# Next model: filter size = 64, kernel size = 7\n",
    "\n",
    "model5, loss5, prop5 = getModel(epochs_nr,batch_val, 64, 7)"
   ]
  },
  {
   "cell_type": "code",
   "execution_count": 75,
   "id": "9815b1f9",
   "metadata": {},
   "outputs": [
    {
     "name": "stdout",
     "output_type": "stream",
     "text": [
      "98/98 [==============================] - 1s 7ms/step\n",
      "--------------------------------Classification report-\n",
      " \n",
      "              precision    recall  f1-score   support\n",
      "\n",
      "           0       1.00      0.98      0.99       532\n",
      "           1       0.99      1.00      0.99       462\n",
      "           2       1.00      1.00      1.00       421\n",
      "           3       0.87      0.84      0.86       530\n",
      "           4       0.86      0.89      0.87       586\n",
      "           5       1.00      1.00      1.00       589\n",
      "\n",
      "    accuracy                           0.95      3120\n",
      "   macro avg       0.95      0.95      0.95      3120\n",
      "weighted avg       0.95      0.95      0.95      3120\n",
      "\n",
      " \n",
      "-------------------------------------Confusion matrix-\n",
      " \n",
      "[[522   6   0   0   4   0]\n",
      " [  0 460   0   2   0   0]\n",
      " [  0   0 421   0   0   0]\n",
      " [  0   0   0 446  84   0]\n",
      " [  0   0   0  63 523   0]\n",
      " [  0   0   0   0   0 589]]\n",
      " \n",
      "-------------------------------------Loss Values plot-\n"
     ]
    },
    {
     "data": {
      "image/png": "[encoded data removed]",
      "text/plain": [
       "<Figure size 432x288 with 1 Axes>"
      ]
     },
     "metadata": {
      "needs_background": "light"
     },
     "output_type": "display_data"
    }
   ],
   "source": [
    "# Properties of the model visualisation\n",
    "propModel(model5,loss5)"
   ]
  },
  {
   "cell_type": "code",
   "execution_count": 72,
   "id": "f49819ce",
   "metadata": {},
   "outputs": [
    {
     "name": "stdout",
     "output_type": "stream",
     "text": [
      "Model: \"sequential_22\"\n",
      "_________________________________________________________________\n",
      " Layer (type)                Output Shape              Param #   \n",
      "=================================================================\n",
      " conv1d_44 (Conv1D)          (None, 122, 32)           2048      \n",
      "                                                                 \n",
      " conv1d_45 (Conv1D)          (None, 116, 16)           3600      \n",
      "                                                                 \n",
      " max_pooling1d_22 (MaxPoolin  (None, 58, 16)           0         \n",
      " g1D)                                                            \n",
      "                                                                 \n",
      " dropout_30 (Dropout)        (None, 58, 16)            0         \n",
      "                                                                 \n",
      " flatten_22 (Flatten)        (None, 928)               0         \n",
      "                                                                 \n",
      " dense_44 (Dense)            (None, 125)               116125    \n",
      "                                                                 \n",
      " dense_45 (Dense)            (None, 6)                 756       \n",
      "                                                                 \n",
      "=================================================================\n",
      "Total params: 122,529\n",
      "Trainable params: 122,529\n",
      "Non-trainable params: 0\n",
      "_________________________________________________________________\n",
      "Epoch 1/11\n",
      "251/251 [==============================] - 5s 16ms/step - loss: 0.4591 - accuracy: 0.8103 - val_loss: 0.2017 - val_accuracy: 0.9183\n",
      "Epoch 2/11\n",
      "251/251 [==============================] - 4s 17ms/step - loss: 0.1943 - accuracy: 0.9229 - val_loss: 0.1532 - val_accuracy: 0.9417\n",
      "Epoch 3/11\n",
      "251/251 [==============================] - 4s 17ms/step - loss: 0.1599 - accuracy: 0.9353 - val_loss: 0.1559 - val_accuracy: 0.9337\n",
      "Epoch 4/11\n",
      "251/251 [==============================] - 4s 18ms/step - loss: 0.1486 - accuracy: 0.9411 - val_loss: 0.1292 - val_accuracy: 0.9462\n",
      "Epoch 5/11\n",
      "251/251 [==============================] - 5s 18ms/step - loss: 0.1308 - accuracy: 0.9453 - val_loss: 0.1346 - val_accuracy: 0.9429\n",
      "Epoch 6/11\n",
      "251/251 [==============================] - 5s 19ms/step - loss: 0.1319 - accuracy: 0.9472 - val_loss: 0.1210 - val_accuracy: 0.9490\n",
      "Epoch 7/11\n",
      "251/251 [==============================] - 5s 19ms/step - loss: 0.1223 - accuracy: 0.9501 - val_loss: 0.1258 - val_accuracy: 0.9481\n",
      "Epoch 8/11\n",
      "251/251 [==============================] - 5s 19ms/step - loss: 0.1179 - accuracy: 0.9526 - val_loss: 0.1490 - val_accuracy: 0.9388\n",
      "Epoch 9/11\n",
      "251/251 [==============================] - 5s 19ms/step - loss: 0.1196 - accuracy: 0.9501 - val_loss: 0.1168 - val_accuracy: 0.9487\n",
      "Epoch 10/11\n",
      "251/251 [==============================] - 5s 19ms/step - loss: 0.1171 - accuracy: 0.9516 - val_loss: 0.1282 - val_accuracy: 0.9465\n",
      "Epoch 11/11\n",
      "251/251 [==============================] - 5s 20ms/step - loss: 0.1152 - accuracy: 0.9540 - val_loss: 0.1421 - val_accuracy: 0.9433\n"
     ]
    }
   ],
   "source": [
    "# Next model: filter size = 32, kernel size = 7\n",
    "\n",
    "model6, loss6, prop6 = getModel(epochs_nr,batch_val, 32, 7)"
   ]
  },
  {
   "cell_type": "code",
   "execution_count": 73,
   "id": "12c1a417",
   "metadata": {},
   "outputs": [
    {
     "name": "stdout",
     "output_type": "stream",
     "text": [
      "98/98 [==============================] - 0s 3ms/step\n",
      "--------------------------------Classification report-\n",
      " \n",
      "              precision    recall  f1-score   support\n",
      "\n",
      "           0       0.99      0.98      0.98       532\n",
      "           1       0.96      1.00      0.98       462\n",
      "           2       0.99      0.99      0.99       421\n",
      "           3       0.82      0.91      0.86       530\n",
      "           4       0.91      0.81      0.86       586\n",
      "           5       1.00      1.00      1.00       589\n",
      "\n",
      "    accuracy                           0.94      3120\n",
      "   macro avg       0.95      0.95      0.95      3120\n",
      "weighted avg       0.94      0.94      0.94      3120\n",
      "\n",
      " \n",
      "-------------------------------------Confusion matrix-\n",
      " \n",
      "[[520   9   3   0   0   0]\n",
      " [  0 462   0   0   0   0]\n",
      " [  0   4 417   0   0   0]\n",
      " [  2   1   0 481  46   0]\n",
      " [  2   4   0 106 474   0]\n",
      " [  0   0   0   0   0 589]]\n",
      " \n",
      "-------------------------------------Loss Values plot-\n"
     ]
    },
    {
     "data": {
      "image/png": "[encoded data removed]",
      "text/plain": [
       "<Figure size 432x288 with 1 Axes>"
      ]
     },
     "metadata": {
      "needs_background": "light"
     },
     "output_type": "display_data"
    }
   ],
   "source": [
    "# Properties of the model visualisation\n",
    "propModel(model6,loss6)"
   ]
  },
  {
   "cell_type": "code",
   "execution_count": 76,
   "id": "bd067376",
   "metadata": {},
   "outputs": [
    {
     "name": "stdout",
     "output_type": "stream",
     "text": [
      "Model: \"sequential_24\"\n",
      "_________________________________________________________________\n",
      " Layer (type)                Output Shape              Param #   \n",
      "=================================================================\n",
      " conv1d_48 (Conv1D)          (None, 122, 256)          16384     \n",
      "                                                                 \n",
      " conv1d_49 (Conv1D)          (None, 116, 128)          229504    \n",
      "                                                                 \n",
      " max_pooling1d_24 (MaxPoolin  (None, 58, 128)          0         \n",
      " g1D)                                                            \n",
      "                                                                 \n",
      " dropout_32 (Dropout)        (None, 58, 128)           0         \n",
      "                                                                 \n",
      " flatten_24 (Flatten)        (None, 7424)              0         \n",
      "                                                                 \n",
      " dense_48 (Dense)            (None, 125)               928125    \n",
      "                                                                 \n",
      " dense_49 (Dense)            (None, 6)                 756       \n",
      "                                                                 \n",
      "=================================================================\n",
      "Total params: 1,174,769\n",
      "Trainable params: 1,174,769\n",
      "Non-trainable params: 0\n",
      "_________________________________________________________________\n",
      "Epoch 1/11\n",
      "251/251 [==============================] - 26s 103ms/step - loss: 0.3302 - accuracy: 0.8683 - val_loss: 0.2499 - val_accuracy: 0.8881\n",
      "Epoch 2/11\n",
      "251/251 [==============================] - 28s 110ms/step - loss: 0.1506 - accuracy: 0.9404 - val_loss: 0.2050 - val_accuracy: 0.9250\n",
      "Epoch 3/11\n",
      "251/251 [==============================] - 25s 98ms/step - loss: 0.1301 - accuracy: 0.9453 - val_loss: 0.1454 - val_accuracy: 0.9410\n",
      "Epoch 4/11\n",
      "251/251 [==============================] - 25s 98ms/step - loss: 0.1301 - accuracy: 0.9477 - val_loss: 0.1156 - val_accuracy: 0.9490\n",
      "Epoch 5/11\n",
      "251/251 [==============================] - 24s 97ms/step - loss: 0.1175 - accuracy: 0.9485 - val_loss: 0.1120 - val_accuracy: 0.9490\n",
      "Epoch 6/11\n",
      "251/251 [==============================] - 24s 96ms/step - loss: 0.1394 - accuracy: 0.9452 - val_loss: 0.1337 - val_accuracy: 0.9426\n",
      "Epoch 7/11\n",
      "251/251 [==============================] - 24s 95ms/step - loss: 0.1247 - accuracy: 0.9490 - val_loss: 0.1184 - val_accuracy: 0.9490\n",
      "Epoch 8/11\n",
      "251/251 [==============================] - 24s 96ms/step - loss: 0.1127 - accuracy: 0.9532 - val_loss: 0.1170 - val_accuracy: 0.9516\n",
      "Epoch 9/11\n",
      "251/251 [==============================] - 24s 96ms/step - loss: 0.1099 - accuracy: 0.9504 - val_loss: 0.1069 - val_accuracy: 0.9500\n",
      "Epoch 10/11\n",
      "251/251 [==============================] - 24s 95ms/step - loss: 0.1083 - accuracy: 0.9522 - val_loss: 0.1418 - val_accuracy: 0.9365\n",
      "Epoch 11/11\n",
      "251/251 [==============================] - 24s 95ms/step - loss: 0.1219 - accuracy: 0.9508 - val_loss: 0.1123 - val_accuracy: 0.9490\n"
     ]
    }
   ],
   "source": [
    "# Next model: filter size = 256, kernel size = 7\n",
    "\n",
    "model7, loss7, prop7 = getModel(epochs_nr,batch_val, 256, 7)"
   ]
  },
  {
   "cell_type": "code",
   "execution_count": 77,
   "id": "e95ea017",
   "metadata": {},
   "outputs": [
    {
     "name": "stdout",
     "output_type": "stream",
     "text": [
      "98/98 [==============================] - 1s 12ms/step\n",
      "--------------------------------Classification report-\n",
      " \n",
      "              precision    recall  f1-score   support\n",
      "\n",
      "           0       1.00      1.00      1.00       532\n",
      "           1       1.00      1.00      1.00       462\n",
      "           2       1.00      1.00      1.00       421\n",
      "           3       0.83      0.89      0.86       530\n",
      "           4       0.89      0.83      0.86       586\n",
      "           5       1.00      1.00      1.00       589\n",
      "\n",
      "    accuracy                           0.95      3120\n",
      "   macro avg       0.95      0.95      0.95      3120\n",
      "weighted avg       0.95      0.95      0.95      3120\n",
      "\n",
      " \n",
      "-------------------------------------Confusion matrix-\n",
      " \n",
      "[[532   0   0   0   0   0]\n",
      " [  1 461   0   0   0   0]\n",
      " [  0   0 421   0   0   0]\n",
      " [  0   0   0 472  58   0]\n",
      " [  0   1   0  99 486   0]\n",
      " [  0   0   0   0   0 589]]\n",
      " \n",
      "-------------------------------------Loss Values plot-\n"
     ]
    },
    {
     "data": {
      "image/png": "[encoded data removed]",
      "text/plain": [
       "<Figure size 432x288 with 1 Axes>"
      ]
     },
     "metadata": {
      "needs_background": "light"
     },
     "output_type": "display_data"
    }
   ],
   "source": [
    "# Properties of the model visualisation\n",
    "propModel(model7,loss7)"
   ]
  },
  {
   "cell_type": "markdown",
   "id": "a1796f1e",
   "metadata": {},
   "source": [
    "# Conclusions\n",
    "* the best results achieved in the model3, loss values plot looks stable during epochs\n",
    "* accuracy in each model around 95%, the highest in model3\n",
    "* models sometimes hava problems to distinguish between activities number 5 and 6\n",
    "* probably the reason is that during the sitting and standing signals from sensors are similar"
   ]
  },
  {
   "cell_type": "code",
   "execution_count": 81,
   "id": "4d583963",
   "metadata": {},
   "outputs": [
    {
     "name": "stderr",
     "output_type": "stream",
     "text": [
      "WARNING:absl:Found untraced functions such as _jit_compiled_convolution_op, _jit_compiled_convolution_op while saving (showing 2 of 2). These functions will not be directly callable after loading.\n"
     ]
    },
    {
     "name": "stdout",
     "output_type": "stream",
     "text": [
      "INFO:tensorflow:Assets written to: GeneralModel/assets\n"
     ]
    },
    {
     "name": "stderr",
     "output_type": "stream",
     "text": [
      "INFO:tensorflow:Assets written to: GeneralModel/assets\n"
     ]
    }
   ],
   "source": [
    "# Saving the model\n",
    "model3.save('GeneralModel')"
   ]
  },
  {
   "cell_type": "code",
   "execution_count": 82,
   "id": "e95dc3eb",
   "metadata": {},
   "outputs": [],
   "source": [
    "model3 = keras.models.load_model('GeneralModel');"
   ]
  },
  {
   "cell_type": "code",
   "execution_count": 97,
   "id": "75d1c7c6",
   "metadata": {},
   "outputs": [
    {
     "name": "stdout",
     "output_type": "stream",
     "text": [
      "98/98 [==============================] - 1s 6ms/step\n"
     ]
    },
    {
     "data": {
      "image/png": "[encoded data removed]",
      "text/plain": [
       "<Figure size 1152x1008 with 2 Axes>"
      ]
     },
     "metadata": {},
     "output_type": "display_data"
    }
   ],
   "source": [
    "# The confusion matrix visualisation\n",
    "y_pred = model3.predict(X_test)\n",
    "# Changing form of output data\n",
    "y_pred = np.argmax(y_pred, axis=1)\n",
    "y_real = np.argmax(y_test_cat, axis=1)\n",
    "# Counting the confusion matrix\n",
    "confusion_mtx = confusion_matrix(y_real,y_pred)\n",
    "# Labels \n",
    "LABELS = ['WALKING','WALKING_UPSTAIRS','WALKING_DOWNSTAIRS','SITTING','STANDING','LAYING']\n",
    "# Visualisation\n",
    "plt.figure(figsize=(16, 14))\n",
    "sns.set(style='whitegrid', palette='muted', font_scale=1.5)\n",
    "sns.heatmap(confusion_mtx, xticklabels=LABELS, yticklabels=LABELS, annot=True, fmt=\"d\", cmap=\"OrRd\");\n",
    "plt.title(\"Confusion matrix\", fontsize=25)\n",
    "plt.ylabel('True label', fontsize=25)\n",
    "plt.xlabel('Predicted label', fontsize=25)\n",
    "plt.show();"
   ]
  },
  {
   "cell_type": "code",
   "execution_count": 91,
   "id": "a3faeecc",
   "metadata": {},
   "outputs": [
    {
     "name": "stderr",
     "output_type": "stream",
     "text": [
      "2022-07-09 00:50:06.451277: W tensorflow/compiler/mlir/lite/python/tf_tfl_flatbuffer_helpers.cc:362] Ignored output_format.\n",
      "2022-07-09 00:50:06.453872: W tensorflow/compiler/mlir/lite/python/tf_tfl_flatbuffer_helpers.cc:365] Ignored drop_control_dependency.\n",
      "2022-07-09 00:50:06.484693: I tensorflow/cc/saved_model/reader.cc:43] Reading SavedModel from: GeneralModel\n",
      "2022-07-09 00:50:06.494749: I tensorflow/cc/saved_model/reader.cc:81] Reading meta graph with tags { serve }\n",
      "2022-07-09 00:50:06.495298: I tensorflow/cc/saved_model/reader.cc:122] Reading SavedModel debug info (if present) from: GeneralModel\n",
      "2022-07-09 00:50:06.514709: I tensorflow/compiler/mlir/mlir_graph_optimization_pass.cc:354] MLIR V1 optimization pass is not enabled\n",
      "2022-07-09 00:50:06.519098: I tensorflow/cc/saved_model/loader.cc:228] Restoring SavedModel bundle.\n",
      "2022-07-09 00:50:06.650022: I tensorflow/cc/saved_model/loader.cc:212] Running initialization op on SavedModel bundle at path: GeneralModel\n",
      "2022-07-09 00:50:06.668491: I tensorflow/cc/saved_model/loader.cc:301] SavedModel load for tags { serve }; Status: success: OK. Took 183815 microseconds.\n",
      "2022-07-09 00:50:06.781670: I tensorflow/compiler/mlir/tensorflow/utils/dump_mlir_util.cc:263] disabling MLIR crash reproducer, set env var `MLIR_CRASH_REPRODUCER_DIRECTORY` to enable.\n"
     ]
    }
   ],
   "source": [
    "import tensorflow as tf\n",
    "\n",
    "# Convert the model\n",
    "converter = tf.lite.TFLiteConverter.from_saved_model('GeneralModel') # path to the SavedModel directory\n",
    "tflite_model = converter.convert()\n",
    "\n",
    "# Save the model.\n",
    "with open('model.tflite', 'wb') as f:\n",
    "    f.write(tflite_model)"
   ]
  }
 ],
 "metadata": {
  "kernelspec": {
   "display_name": "Python 3 (ipykernel)",
   "language": "python",
   "name": "python3"
  },
  "language_info": {
   "codemirror_mode": {
    "name": "ipython",
    "version": 3
   },
   "file_extension": ".py",
   "mimetype": "text/x-python",
   "name": "python",
   "nbconvert_exporter": "python",
   "pygments_lexer": "ipython3",
   "version": "3.10.1"
  }
 },
 "nbformat": 4,
 "nbformat_minor": 5
}

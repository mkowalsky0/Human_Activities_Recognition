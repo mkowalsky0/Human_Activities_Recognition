{
 "cells": [
  {
   "cell_type": "markdown",
   "id": "9353ad53",
   "metadata": {},
   "source": [
    "# Convolutional neural network for the human activities recognition\n",
    "* using preprocessed data in shape (samples, window-shape, components) to train and test the model\n",
    "* analyzes motor activities based on signals from sensors\n",
    "* its six activities: walking, standing, sitting, laying, walking up and downstairs"
   ]
  },
  {
   "cell_type": "code",
   "execution_count": 1,
   "id": "ed065c2c",
   "metadata": {},
   "outputs": [],
   "source": [
    "# Importing necessary libraries\n",
    "import pandas as pd\n",
    "import numpy as np\n",
    "import matplotlib.pyplot as plt\n",
    "import glob\n",
    "from tensorflow import keras\n",
    "from keras.models import Sequential\n",
    "from keras.layers.convolutional import Conv1D, MaxPooling1D\n",
    "from keras.layers import Dense, Dropout, Flatten\n",
    "%matplotlib inline"
   ]
  },
  {
   "cell_type": "markdown",
   "id": "a4b5b3ac",
   "metadata": {},
   "source": [
    "# Loading and reshaping data"
   ]
  },
  {
   "cell_type": "code",
   "execution_count": 2,
   "id": "8aaa9e3d",
   "metadata": {},
   "outputs": [],
   "source": [
    "# Loading from the .txt files\n",
    "X_train = np.loadtxt('GeneralData/X_train.txt')\n",
    "X_test = np.loadtxt('GeneralData/X_test.txt')\n",
    "y_train = np.loadtxt('GeneralData/y_train.txt')\n",
    "y_test = np.loadtxt('GeneralData/y_test.txt')"
   ]
  },
  {
   "cell_type": "code",
   "execution_count": 3,
   "id": "ef52abdc",
   "metadata": {},
   "outputs": [
    {
     "data": {
      "text/plain": [
       "((7279, 1152), (7279,))"
      ]
     },
     "execution_count": 3,
     "metadata": {},
     "output_type": "execute_result"
    }
   ],
   "source": [
    "# Shape of X and y data before reshaping\n",
    "X_train.shape, y_train.shape"
   ]
  },
  {
   "cell_type": "code",
   "execution_count": 4,
   "id": "7feb1c85",
   "metadata": {},
   "outputs": [],
   "source": [
    "# Reshaping y data\n",
    "y_test = np.reshape(y_test,(y_test.shape[0],1))\n",
    "y_train = np.reshape(y_train,(y_train.shape[0],1))\n",
    "# Changing the type (int) and decrease the indexes by one - to fit it with binary class matrix (output)\n",
    "y_test = y_test.astype(int) - 1\n",
    "y_train = y_train.astype(int) - 1"
   ]
  },
  {
   "cell_type": "code",
   "execution_count": 5,
   "id": "c6b83ca1",
   "metadata": {},
   "outputs": [],
   "source": [
    "# Converts an y vectors to binary class matrix\n",
    "y_test_cat = keras.utils.to_categorical(y_test)\n",
    "y_train_cat = keras.utils.to_categorical(y_train)"
   ]
  },
  {
   "cell_type": "code",
   "execution_count": 6,
   "id": "099bb1ae",
   "metadata": {},
   "outputs": [
    {
     "data": {
      "text/plain": [
       "array([[0., 1., 0., 0., 0., 0.],\n",
       "       [0., 0., 1., 0., 0., 0.],\n",
       "       [0., 0., 0., 1., 0., 0.],\n",
       "       [0., 0., 0., 0., 1., 0.],\n",
       "       [0., 1., 0., 0., 0., 0.]], dtype=float32)"
      ]
     },
     "execution_count": 6,
     "metadata": {},
     "output_type": "execute_result"
    }
   ],
   "source": [
    "# Visualisating output\n",
    "y_test_cat[:5]"
   ]
  },
  {
   "cell_type": "code",
   "execution_count": 7,
   "id": "4969d3ca",
   "metadata": {},
   "outputs": [],
   "source": [
    "# Reshaping X data into (samples, windows-shape, compontents) \n",
    "# values from the SingalPreprocessing\n",
    "samples = 10399\n",
    "window_shape = 128\n",
    "components = 9\n",
    "\n",
    "X_test = np.reshape(X_test, (X_test.shape[0], X_test.shape[1] // components, components))\n",
    "X_train = np.reshape (X_train, (X_train.shape[0], X_train.shape[1] // components, components))"
   ]
  },
  {
   "cell_type": "code",
   "execution_count": 8,
   "id": "b0d0f704",
   "metadata": {},
   "outputs": [
    {
     "data": {
      "text/plain": [
       "((7279, 128, 9), (3120, 128, 9))"
      ]
     },
     "execution_count": 8,
     "metadata": {},
     "output_type": "execute_result"
    }
   ],
   "source": [
    "# X after reshaping\n",
    "X_train.shape, X_test.shape"
   ]
  },
  {
   "cell_type": "markdown",
   "id": "ce54e241",
   "metadata": {},
   "source": [
    "* Data is prepared to use into training process"
   ]
  },
  {
   "cell_type": "markdown",
   "id": "4e6a9162",
   "metadata": {},
   "source": [
    "# Modeling CNN\n",
    "* fitting\n",
    "* testing and evaluating"
   ]
  },
  {
   "cell_type": "code",
   "execution_count": 92,
   "id": "47a3d4df",
   "metadata": {},
   "outputs": [],
   "source": [
    "#Creating model\n",
    "def createModel(nr_filter, nr_kernel):\n",
    "    model = Sequential()\n",
    "    # Adding layers\n",
    "    # first convolution\n",
    "    model.add(Conv1D(filters=nr_filter, kernel_size=nr_kernel, input_shape=X_train.shape[1:], activation='relu'))\n",
    "    # second convolution, the number of filteres divided by 2\n",
    "    model.add(Conv1D(nr_filter/2, nr_kernel, activation='relu'))\n",
    "    # max pooling size 2\n",
    "    model.add(MaxPooling1D(2))\n",
    "    # only 25% of data goes on\n",
    "    model.add(Dropout(0.25))\n",
    "    # flattering the matrix\n",
    "    model.add(Flatten())\n",
    "    # deeply connected layer with 125 units\n",
    "    model.add(Dense(units=125, activation='relu'))\n",
    "    # only 50% of data goes on\n",
    "    model.add(Dropout(0.5))\n",
    "    # deeply connected layer with 6 units = 6 activities\n",
    "    model.add(Dense(units=6, activation='softmax'))\n",
    "    # Model Visualisation\n",
    "    model.summary()\n",
    "    # Model compilation\n",
    "    model.compile(optimizer='adam', loss = 'categorical_crossentropy', metrics=['accuracy'])\n",
    "    # Return model\n",
    "    return model"
   ]
  },
  {
   "cell_type": "markdown",
   "id": "a2cbf7eb",
   "metadata": {},
   "source": [
    "* the optimizer is adam\n",
    "* using categorical cross entropy because labels are one-hot represenation and more then one class\n",
    "* two dropout layers to avoid overfitting\n",
    "* activation function is ReLU"
   ]
  },
  {
   "cell_type": "code",
   "execution_count": 149,
   "id": "881fce39",
   "metadata": {},
   "outputs": [],
   "source": [
    "# Getting model with properties\n",
    "def getModel(epochs, batch, nr_filter, nr_kernel):\n",
    "    # Model creating\n",
    "    model = createModel(nr_filter,nr_kernel)\n",
    "    # Model fitting\n",
    "    model.fit(x=X_train, y=y_train_cat, epochs=epochs, batch_size=batch, validation_data=(X_test,y_test_cat))\n",
    "    # Getting model properties\n",
    "    model_feat = pd.DataFrame(model.history.history)\n",
    "    # Getting loss values\n",
    "    model_loss = model_feat[['loss','val_loss']]\n",
    "    # Return model, model loss and model properties\n",
    "    return model, model_loss, model_feat"
   ]
  },
  {
   "cell_type": "code",
   "execution_count": 159,
   "id": "2ed94e79",
   "metadata": {},
   "outputs": [],
   "source": [
    "from sklearn.metrics import classification_report, confusion_matrix\n",
    "\n",
    "# Model properties\n",
    "def propModel(model, loss):\n",
    "    # predictions of model using testing dataset\n",
    "    y_pred = model.predict(X_test)\n",
    "    # changing form of output data\n",
    "    y_pred = np.argmax(y_pred, axis=1)\n",
    "    y_real = np.argmax(y_test_cat, axis=1)\n",
    "    # showing properties\n",
    "    print('--------------------------------Classification report-')\n",
    "    print(' ')\n",
    "    print(classification_report(y_real,y_pred))\n",
    "    print(' ')\n",
    "    print('-------------------------------------Confusion matrix-')\n",
    "    print(' ')\n",
    "    print(confusion_matrix(y_real,y_pred))\n",
    "    print(' ')\n",
    "    print('-------------------------------------Loss Values plot-')\n",
    "    loss.plot()"
   ]
  },
  {
   "cell_type": "code",
   "execution_count": 162,
   "id": "91ea5180",
   "metadata": {},
   "outputs": [],
   "source": [
    "# Fitting components\n",
    "\n",
    "epochs_nr = 12 # number of epochs during the training, it is a right value when i checked a model\n",
    "batch_val = 29 # batch size 7279/29 = 251"
   ]
  },
  {
   "cell_type": "code",
   "execution_count": 163,
   "id": "675b1ebb",
   "metadata": {},
   "outputs": [
    {
     "name": "stdout",
     "output_type": "stream",
     "text": [
      "Model: \"sequential_19\"\n",
      "_________________________________________________________________\n",
      " Layer (type)                Output Shape              Param #   \n",
      "=================================================================\n",
      " conv1d_38 (Conv1D)          (None, 124, 128)          5888      \n",
      "                                                                 \n",
      " conv1d_39 (Conv1D)          (None, 120, 64)           41024     \n",
      "                                                                 \n",
      " max_pooling1d_19 (MaxPoolin  (None, 60, 64)           0         \n",
      " g1D)                                                            \n",
      "                                                                 \n",
      " dropout_38 (Dropout)        (None, 60, 64)            0         \n",
      "                                                                 \n",
      " flatten_19 (Flatten)        (None, 3840)              0         \n",
      "                                                                 \n",
      " dense_38 (Dense)            (None, 125)               480125    \n",
      "                                                                 \n",
      " dropout_39 (Dropout)        (None, 125)               0         \n",
      "                                                                 \n",
      " dense_39 (Dense)            (None, 6)                 756       \n",
      "                                                                 \n",
      "=================================================================\n",
      "Total params: 527,793\n",
      "Trainable params: 527,793\n",
      "Non-trainable params: 0\n",
      "_________________________________________________________________\n",
      "Epoch 1/12\n",
      "251/251 [==============================] - 7s 28ms/step - loss: 0.4039 - accuracy: 0.8380 - val_loss: 0.1601 - val_accuracy: 0.9314\n",
      "Epoch 2/12\n",
      "251/251 [==============================] - 9s 36ms/step - loss: 0.1711 - accuracy: 0.9328 - val_loss: 0.1219 - val_accuracy: 0.9458\n",
      "Epoch 3/12\n",
      "251/251 [==============================] - 8s 31ms/step - loss: 0.1433 - accuracy: 0.9448 - val_loss: 0.1405 - val_accuracy: 0.9426\n",
      "Epoch 4/12\n",
      "251/251 [==============================] - 8s 33ms/step - loss: 0.1269 - accuracy: 0.9488 - val_loss: 0.1303 - val_accuracy: 0.9455\n",
      "Epoch 5/12\n",
      "251/251 [==============================] - 8s 34ms/step - loss: 0.1237 - accuracy: 0.9464 - val_loss: 0.1120 - val_accuracy: 0.9516\n",
      "Epoch 6/12\n",
      "251/251 [==============================] - 10s 38ms/step - loss: 0.1215 - accuracy: 0.9489 - val_loss: 0.1174 - val_accuracy: 0.9506\n",
      "Epoch 7/12\n",
      "251/251 [==============================] - 11s 46ms/step - loss: 0.1161 - accuracy: 0.9538 - val_loss: 0.1172 - val_accuracy: 0.9471\n",
      "Epoch 8/12\n",
      "251/251 [==============================] - 9s 36ms/step - loss: 0.1475 - accuracy: 0.9482 - val_loss: 0.1161 - val_accuracy: 0.9516\n",
      "Epoch 9/12\n",
      "251/251 [==============================] - 9s 36ms/step - loss: 0.1119 - accuracy: 0.9537 - val_loss: 0.1241 - val_accuracy: 0.9465\n",
      "Epoch 10/12\n",
      "251/251 [==============================] - 9s 36ms/step - loss: 0.1128 - accuracy: 0.9538 - val_loss: 0.1209 - val_accuracy: 0.9500\n",
      "Epoch 11/12\n",
      "251/251 [==============================] - 9s 36ms/step - loss: 0.1156 - accuracy: 0.9534 - val_loss: 0.1343 - val_accuracy: 0.9503\n",
      "Epoch 12/12\n",
      "251/251 [==============================] - 9s 37ms/step - loss: 0.1099 - accuracy: 0.9534 - val_loss: 0.1099 - val_accuracy: 0.9506\n"
     ]
    }
   ],
   "source": [
    "# Model: filter size = 128, kernel size = 5\n",
    "\n",
    "model, loss, prop = getModel(epochs_nr,batch_val, 128, 5)"
   ]
  },
  {
   "cell_type": "code",
   "execution_count": 164,
   "id": "959feeb9",
   "metadata": {},
   "outputs": [
    {
     "name": "stdout",
     "output_type": "stream",
     "text": [
      "--------------------------------Classification report-\n",
      " \n",
      "              precision    recall  f1-score   support\n",
      "\n",
      "           0       1.00      1.00      1.00       532\n",
      "           1       1.00      1.00      1.00       462\n",
      "           2       1.00      1.00      1.00       421\n",
      "           3       0.83      0.89      0.86       530\n",
      "           4       0.89      0.84      0.87       586\n",
      "           5       1.00      1.00      1.00       589\n",
      "\n",
      "    accuracy                           0.95      3120\n",
      "   macro avg       0.95      0.95      0.95      3120\n",
      "weighted avg       0.95      0.95      0.95      3120\n",
      "\n",
      " \n",
      "-------------------------------------Confusion matrix-\n",
      " \n",
      "[[532   0   0   0   0   0]\n",
      " [  0 462   0   0   0   0]\n",
      " [  0   1 420   0   0   0]\n",
      " [  0   0   0 472  58   0]\n",
      " [  0   0   0  95 491   0]\n",
      " [  0   0   0   0   0 589]]\n",
      " \n",
      "-------------------------------------Loss Values plot-\n"
     ]
    },
    {
     "data": {
      "image/png": "[encoded data removed]",
      "text/plain": [
       "<Figure size 432x288 with 1 Axes>"
      ]
     },
     "metadata": {
      "needs_background": "light"
     },
     "output_type": "display_data"
    }
   ],
   "source": [
    "# Properties of the model visualisation\n",
    "propModel(model,loss)"
   ]
  },
  {
   "cell_type": "code",
   "execution_count": null,
   "id": "05f54831",
   "metadata": {},
   "outputs": [],
   "source": []
  }
 ],
 "metadata": {
  "kernelspec": {
   "display_name": "Python 3 (ipykernel)",
   "language": "python",
   "name": "python3"
  },
  "language_info": {
   "codemirror_mode": {
    "name": "ipython",
    "version": 3
   },
   "file_extension": ".py",
   "mimetype": "text/x-python",
   "name": "python",
   "nbconvert_exporter": "python",
   "pygments_lexer": "ipython3",
   "version": "3.10.1"
  }
 },
 "nbformat": 4,
 "nbformat_minor": 5
}

{
 "cells": [
  {
   "cell_type": "markdown",
   "id": "ad8080dd",
   "metadata": {},
   "source": [
    "# Convolutional neural network in the human activities recognition\n",
    "\n",
    "- using raw data from motion sensors in smartphone (Smartphone-Based Recognition of Human Activities and Postural Transitions Data Set - UCI)\n",
    "\n",
    "- an experiment carried out on 30 people (19-49 years)\n",
    "\n",
    "- six activities noticed: WALKING, WALKING_UPSTAIRS, WALKING_DOWNSTAIRS, SITTING, STANDING, LAYING and postural transtions\n",
    "\n",
    "- capturing 3-axial linear acceleration and 3-axial angular velocity at a constant rate of 50Hz\n",
    "\n",
    "- 128 readings per window for one signal sample (50% overlap)\n",
    "\n",
    "- dataset including raw 3-axial data from sensors and labels for each activity:\n",
    "\n",
    "1. WALKING\n",
    "2. WALKING_UPSTAIRS\n",
    "3. WALKING_DOWNSTAIRS\n",
    "4. SITTING\n",
    "5. STANDING\n",
    "6. LAYING"
   ]
  },
  {
   "cell_type": "markdown",
   "id": "5462607d",
   "metadata": {},
   "source": [
    "# Uploading the data from database files\n",
    "- each signal for each experiment number is saved into separated file, signals from accelerometer and gyroscope are also separated "
   ]
  },
  {
   "cell_type": "code",
   "execution_count": 3,
   "id": "2d927490",
   "metadata": {},
   "outputs": [],
   "source": [
    "# Importing necessary libraries\n",
    "import pandas as pd\n",
    "import numpy as np\n",
    "import matplotlib.pyplot as plt\n",
    "import glob\n",
    "%matplotlib inline"
   ]
  },
  {
   "cell_type": "code",
   "execution_count": 4,
   "id": "13d58f5c",
   "metadata": {},
   "outputs": [],
   "source": [
    "#Sorting file names in the data folder\n",
    "file_names = sorted(glob.glob('RawData/*'))"
   ]
  },
  {
   "cell_type": "code",
   "execution_count": 5,
   "id": "a5c735f3",
   "metadata": {},
   "outputs": [],
   "source": [
    "# Making a raw data dictionary for each experiment\n",
    "raw_dic = {}\n",
    "# Getting data from 61 experiments\n",
    "for n in range(61):\n",
    "    \n",
    "    # Keys: expXX_userYY where XX number of experiment and YY user's ID\n",
    "    key = file_names[n][12:24]\n",
    "    \n",
    "    # DataFrames with the total accelerometer and gyroscope signals\n",
    "    raw_acc = pd.read_csv(file_names[n], sep = ' ', header = None, names = ['total_acc_x','total_acc_y','total_acc_z'])\n",
    "    raw_gyr = pd.read_csv(file_names[n+61], sep = ' ', header = None, names = ['gyro_x','gyro_y','gyro_z'])\n",
    "    \n",
    "    # Dictionary with both DataFrames\n",
    "    raw_dic[key] = pd.concat([raw_acc,raw_gyr],axis = 1)"
   ]
  },
  {
   "cell_type": "code",
   "execution_count": 6,
   "id": "9c4154c6",
   "metadata": {},
   "outputs": [
    {
     "data": {
      "text/html": [
       "<div>\n",
       "<style scoped>\n",
       "    .dataframe tbody tr th:only-of-type {\n",
       "        vertical-align: middle;\n",
       "    }\n",
       "\n",
       "    .dataframe tbody tr th {\n",
       "        vertical-align: top;\n",
       "    }\n",
       "\n",
       "    .dataframe thead th {\n",
       "        text-align: right;\n",
       "    }\n",
       "</style>\n",
       "<table border=\"1\" class=\"dataframe\">\n",
       "  <thead>\n",
       "    <tr style=\"text-align: right;\">\n",
       "      <th></th>\n",
       "      <th>total_acc_x</th>\n",
       "      <th>total_acc_y</th>\n",
       "      <th>total_acc_z</th>\n",
       "      <th>gyro_x</th>\n",
       "      <th>gyro_y</th>\n",
       "      <th>gyro_z</th>\n",
       "    </tr>\n",
       "  </thead>\n",
       "  <tbody>\n",
       "    <tr>\n",
       "      <th>0</th>\n",
       "      <td>0.918056</td>\n",
       "      <td>-0.112500</td>\n",
       "      <td>0.509722</td>\n",
       "      <td>-0.054978</td>\n",
       "      <td>-0.069639</td>\n",
       "      <td>-0.030849</td>\n",
       "    </tr>\n",
       "    <tr>\n",
       "      <th>1</th>\n",
       "      <td>0.911111</td>\n",
       "      <td>-0.093056</td>\n",
       "      <td>0.537500</td>\n",
       "      <td>-0.012523</td>\n",
       "      <td>0.019242</td>\n",
       "      <td>-0.038485</td>\n",
       "    </tr>\n",
       "    <tr>\n",
       "      <th>2</th>\n",
       "      <td>0.881944</td>\n",
       "      <td>-0.086111</td>\n",
       "      <td>0.513889</td>\n",
       "      <td>-0.023518</td>\n",
       "      <td>0.276417</td>\n",
       "      <td>0.006414</td>\n",
       "    </tr>\n",
       "  </tbody>\n",
       "</table>\n",
       "</div>"
      ],
      "text/plain": [
       "   total_acc_x  total_acc_y  total_acc_z    gyro_x    gyro_y    gyro_z\n",
       "0     0.918056    -0.112500     0.509722 -0.054978 -0.069639 -0.030849\n",
       "1     0.911111    -0.093056     0.537500 -0.012523  0.019242 -0.038485\n",
       "2     0.881944    -0.086111     0.513889 -0.023518  0.276417  0.006414"
      ]
     },
     "execution_count": 6,
     "metadata": {},
     "output_type": "execute_result"
    }
   ],
   "source": [
    "# Example of the raw DataFrame\n",
    "raw_dic['exp01_user01'].head(3)"
   ]
  },
  {
   "cell_type": "code",
   "execution_count": 7,
   "id": "9966600c",
   "metadata": {},
   "outputs": [],
   "source": [
    "# DataFrame with database labels\n",
    "labels = pd.read_csv('RawData/labels.txt', sep=' ', header = None, names = ['Exp_ID','Us_ID','Act_ID','Start_Point','End_Point'] )"
   ]
  },
  {
   "cell_type": "code",
   "execution_count": 8,
   "id": "1d66466b",
   "metadata": {},
   "outputs": [
    {
     "name": "stdout",
     "output_type": "stream",
     "text": [
      "<class 'pandas.core.frame.DataFrame'>\n",
      "RangeIndex: 1214 entries, 0 to 1213\n",
      "Data columns (total 5 columns):\n",
      " #   Column       Non-Null Count  Dtype\n",
      "---  ------       --------------  -----\n",
      " 0   Exp_ID       1214 non-null   int64\n",
      " 1   Us_ID        1214 non-null   int64\n",
      " 2   Act_ID       1214 non-null   int64\n",
      " 3   Start_Point  1214 non-null   int64\n",
      " 4   End_Point    1214 non-null   int64\n",
      "dtypes: int64(5)\n",
      "memory usage: 47.5 KB\n"
     ]
    }
   ],
   "source": [
    "# Info about labels DataFrame\n",
    "labels.info()"
   ]
  },
  {
   "cell_type": "code",
   "execution_count": 9,
   "id": "8c3ac3e6",
   "metadata": {},
   "outputs": [
    {
     "data": {
      "text/html": [
       "<div>\n",
       "<style scoped>\n",
       "    .dataframe tbody tr th:only-of-type {\n",
       "        vertical-align: middle;\n",
       "    }\n",
       "\n",
       "    .dataframe tbody tr th {\n",
       "        vertical-align: top;\n",
       "    }\n",
       "\n",
       "    .dataframe thead th {\n",
       "        text-align: right;\n",
       "    }\n",
       "</style>\n",
       "<table border=\"1\" class=\"dataframe\">\n",
       "  <thead>\n",
       "    <tr style=\"text-align: right;\">\n",
       "      <th></th>\n",
       "      <th>Exp_ID</th>\n",
       "      <th>Us_ID</th>\n",
       "      <th>Act_ID</th>\n",
       "      <th>Start_Point</th>\n",
       "      <th>End_Point</th>\n",
       "    </tr>\n",
       "  </thead>\n",
       "  <tbody>\n",
       "    <tr>\n",
       "      <th>0</th>\n",
       "      <td>1</td>\n",
       "      <td>1</td>\n",
       "      <td>5</td>\n",
       "      <td>250</td>\n",
       "      <td>1232</td>\n",
       "    </tr>\n",
       "    <tr>\n",
       "      <th>1</th>\n",
       "      <td>1</td>\n",
       "      <td>1</td>\n",
       "      <td>7</td>\n",
       "      <td>1233</td>\n",
       "      <td>1392</td>\n",
       "    </tr>\n",
       "    <tr>\n",
       "      <th>2</th>\n",
       "      <td>1</td>\n",
       "      <td>1</td>\n",
       "      <td>4</td>\n",
       "      <td>1393</td>\n",
       "      <td>2194</td>\n",
       "    </tr>\n",
       "  </tbody>\n",
       "</table>\n",
       "</div>"
      ],
      "text/plain": [
       "   Exp_ID  Us_ID  Act_ID  Start_Point  End_Point\n",
       "0       1      1       5          250       1232\n",
       "1       1      1       7         1233       1392\n",
       "2       1      1       4         1393       2194"
      ]
     },
     "execution_count": 9,
     "metadata": {},
     "output_type": "execute_result"
    }
   ],
   "source": [
    "labels.head(3)"
   ]
  },
  {
   "cell_type": "markdown",
   "id": "9c419cc9",
   "metadata": {},
   "source": [
    "# Signal filtering\n",
    "- noise reduction\n",
    "- separating body compontent (without gravity results) from the total accelerometers signals"
   ]
  },
  {
   "cell_type": "code",
   "execution_count": 10,
   "id": "d665adac",
   "metadata": {},
   "outputs": [],
   "source": [
    "# Import functions from scipy.signal\n",
    "from scipy.signal import medfilt, butter, filtfilt"
   ]
  },
  {
   "cell_type": "code",
   "execution_count": 11,
   "id": "318ff56b",
   "metadata": {},
   "outputs": [],
   "source": [
    "# Median filter to reduce noise\n",
    "def median_filter(raw_signal):\n",
    "    \n",
    "    # Changing the signal data into array\n",
    "    arr_signal = np.array(raw_signal)\n",
    "    # Using a median filter on the raw signal data\n",
    "    m_signal = medfilt(arr_signal)\n",
    "    \n",
    "    return m_signal # return the array of filtered signal"
   ]
  },
  {
   "cell_type": "code",
   "execution_count": 12,
   "id": "0f0e1eaa",
   "metadata": {},
   "outputs": [],
   "source": [
    "# Function with 3rd order low-pass Butterworth filter (cutoff = 20Hz - cut-off freq.) to reduce the noise either\n",
    "fs = 50 # Sampling frequency\n",
    "cutoff= 20  # Cut-off frequency of the filter\n",
    "W = cutoff/(fs/2) # Normalizing the frequency\n",
    "def butterworth3rd(m_singal):\n",
    "    \n",
    "    # Preparing the low-pass filter\n",
    "    b, a = butter(3, W, 'low')\n",
    "    # Using a filter on the signal \n",
    "    output = filtfilt(b, a, m_singal)\n",
    "    \n",
    "    return output"
   ]
  },
  {
   "cell_type": "code",
   "execution_count": 13,
   "id": "a576a84b",
   "metadata": {},
   "outputs": [],
   "source": [
    "# Import functions for FFT and iFFT\n",
    "from scipy.fftpack import fft, fftfreq, ifft\n",
    "import math\n",
    "\n",
    "# Function with the filter to separate the signal into body and gravity component\n",
    "def butterworth(signal):\n",
    "    \n",
    "    # Changing the signal data into the array\n",
    "    arr_signal = np.array(signal)\n",
    "    # Using FFT to convert the time singal into the freqency signal\n",
    "    f_signal = fft(arr_signal)\n",
    "    # Generating frequencies where the sampling frequency is 50 Hz\n",
    "    freq = fftfreq(len(arr_signal), d = 1/fs)\n",
    "    # Copying all frequency signal to gravity and body arrays\n",
    "    f_grav_signal = f_signal.copy()\n",
    "    f_body_signal = f_signal.copy()\n",
    "    # Put null when the signal frequency is above the 0.3 Hz - gravity component\n",
    "    f_grav_signal[(abs(freq) > 0.3)] = 0\n",
    "    # Put null when the signal frequency is under the 0.3 Hz - body component\n",
    "    f_body_signal[(abs(freq) <= 0.3)] = 0\n",
    "    \n",
    "    # iFFT to receive real time signals after the filtering\n",
    "    t_grav_signal = ifft(f_grav_signal).real\n",
    "    t_body_signal = ifft(f_body_signal).real\n",
    "    #Returning body and gravity compontents\n",
    "    return t_body_signal, t_grav_signal"
   ]
  },
  {
   "cell_type": "code",
   "execution_count": 14,
   "id": "f470e80b",
   "metadata": {},
   "outputs": [],
   "source": [
    "# Function to preprocessing all filtered compontents of acceleration and gryoscope signals\n",
    "def signal_processing(data):\n",
    "    \n",
    "    # DataFrame for collecting all informations from signals\n",
    "    data_df = pd.DataFrame()\n",
    "   \n",
    "    # Processing first 3 columns from the raw database containing acc signals\n",
    "    for label in data.columns[0:3]:\n",
    "        # Using all designed filters\n",
    "        med_sig = median_filter(data[label])\n",
    "        butt_sig = butterworth3rd(med_sig)\n",
    "        body, _ = butterworth(butt_sig)\n",
    "        # Saving filtered data into data_df\n",
    "        data_df['total_acc_'+label[-1]] = butt_sig # total signal\n",
    "        data_df['body_acc_'+label[-1]] = body # body component\n",
    "\n",
    "    # Processing next 3 columns from the raw database containing gyro signals: same algorythms but without gravity component\n",
    "    for label in data.columns[3:6]:\n",
    "        med_sig = median_filter(data[label])\n",
    "        butt_sig = butterworth3rd(med_sig)\n",
    "        data_df['gyro_'+label[-1]] = butt_sig # total signal\n",
    "        \n",
    "    # Stacking columns \n",
    "    columns = ['total_acc_x', 'total_acc_y', 'total_acc_z',\n",
    "               'body_acc_x', 'body_acc_y', 'body_acc_z', \n",
    "               'gyro_x', 'gyro_y', 'gyro_z',]\n",
    "    \n",
    "    new_data_df = data_df[columns]\n",
    "    \n",
    "    return new_data_df"
   ]
  },
  {
   "cell_type": "code",
   "execution_count": 15,
   "id": "37e5a855",
   "metadata": {},
   "outputs": [],
   "source": [
    "# Creating the dictionary included dataframes with filtered signals datas for all experiments \n",
    "filtered_dic = {}\n",
    "# Signal preprocessing for each number of the experiment\n",
    "filtered_dic = {key: signal_processing(raw_dic[key]) for key in raw_dic.keys()}"
   ]
  },
  {
   "cell_type": "code",
   "execution_count": 16,
   "id": "b8617f08",
   "metadata": {},
   "outputs": [
    {
     "data": {
      "text/html": [
       "<div>\n",
       "<style scoped>\n",
       "    .dataframe tbody tr th:only-of-type {\n",
       "        vertical-align: middle;\n",
       "    }\n",
       "\n",
       "    .dataframe tbody tr th {\n",
       "        vertical-align: top;\n",
       "    }\n",
       "\n",
       "    .dataframe thead th {\n",
       "        text-align: right;\n",
       "    }\n",
       "</style>\n",
       "<table border=\"1\" class=\"dataframe\">\n",
       "  <thead>\n",
       "    <tr style=\"text-align: right;\">\n",
       "      <th></th>\n",
       "      <th>total_acc_x</th>\n",
       "      <th>total_acc_y</th>\n",
       "      <th>total_acc_z</th>\n",
       "      <th>body_acc_x</th>\n",
       "      <th>body_acc_y</th>\n",
       "      <th>body_acc_z</th>\n",
       "      <th>gyro_x</th>\n",
       "      <th>gyro_y</th>\n",
       "      <th>gyro_z</th>\n",
       "    </tr>\n",
       "  </thead>\n",
       "  <tbody>\n",
       "    <tr>\n",
       "      <th>0</th>\n",
       "      <td>0.911095</td>\n",
       "      <td>-0.093009</td>\n",
       "      <td>0.509775</td>\n",
       "      <td>0.479343</td>\n",
       "      <td>-0.268985</td>\n",
       "      <td>-0.211078</td>\n",
       "      <td>-0.012521</td>\n",
       "      <td>0.000269</td>\n",
       "      <td>-0.030992</td>\n",
       "    </tr>\n",
       "    <tr>\n",
       "      <th>1</th>\n",
       "      <td>0.909651</td>\n",
       "      <td>-0.093543</td>\n",
       "      <td>0.513887</td>\n",
       "      <td>0.466571</td>\n",
       "      <td>-0.262820</td>\n",
       "      <td>-0.201204</td>\n",
       "      <td>-0.018848</td>\n",
       "      <td>0.030431</td>\n",
       "      <td>-0.029185</td>\n",
       "    </tr>\n",
       "    <tr>\n",
       "      <th>2</th>\n",
       "      <td>0.884484</td>\n",
       "      <td>-0.085230</td>\n",
       "      <td>0.513767</td>\n",
       "      <td>0.430114</td>\n",
       "      <td>-0.247785</td>\n",
       "      <td>-0.195519</td>\n",
       "      <td>-0.031853</td>\n",
       "      <td>0.257246</td>\n",
       "      <td>-0.001601</td>\n",
       "    </tr>\n",
       "  </tbody>\n",
       "</table>\n",
       "</div>"
      ],
      "text/plain": [
       "   total_acc_x  total_acc_y  total_acc_z  body_acc_x  body_acc_y  body_acc_z  \\\n",
       "0     0.911095    -0.093009     0.509775    0.479343   -0.268985   -0.211078   \n",
       "1     0.909651    -0.093543     0.513887    0.466571   -0.262820   -0.201204   \n",
       "2     0.884484    -0.085230     0.513767    0.430114   -0.247785   -0.195519   \n",
       "\n",
       "     gyro_x    gyro_y    gyro_z  \n",
       "0 -0.012521  0.000269 -0.030992  \n",
       "1 -0.018848  0.030431 -0.029185  \n",
       "2 -0.031853  0.257246 -0.001601  "
      ]
     },
     "execution_count": 16,
     "metadata": {},
     "output_type": "execute_result"
    }
   ],
   "source": [
    "# Dataframe after filtering visualisation\n",
    "filtered_dic['exp01_user01'].head(3)"
   ]
  },
  {
   "cell_type": "markdown",
   "id": "9c697707",
   "metadata": {},
   "source": [
    "Receiving 9 features for each experiment file: total and body accelerometer signals, gyroscope signals"
   ]
  },
  {
   "cell_type": "markdown",
   "id": "67634af4",
   "metadata": {},
   "source": [
    "# Using fixed-width sliding windows on signals\n",
    "- windowing process\n",
    "- each sample: 128 time steps (2,56 s) and 50% overlapping\n",
    "- analyzing only first six activities without postural transitions"
   ]
  },
  {
   "cell_type": "code",
   "execution_count": 17,
   "id": "c7d40191",
   "metadata": {},
   "outputs": [],
   "source": [
    "# Describing indexes of activities in the dictionary\n",
    "act_numbers = {1: 'WALKING',           \n",
    "2: 'WALKING_UPSTAIRS',  \n",
    "3: 'WALKING_DOWNSTAIRS',\n",
    "4: 'SITTING',           \n",
    "5: 'STANDING',          \n",
    "6: 'LAYING',            \n",
    "}"
   ]
  },
  {
   "cell_type": "code",
   "execution_count": 18,
   "id": "99350367",
   "metadata": {},
   "outputs": [],
   "source": [
    "# Windowing signals with a span of 2.56 sec (2.56sec × 50Hz = 128 cycles) and an overlap of 50%.\n",
    "def signal_windowing(data_dic, labels):\n",
    "    # Creating a dictionary for each window with a keys: 'expAA_us_BB_act_C_D' where AA - experiment id, BB - user id, \n",
    "    # C - activity id, D - window id\n",
    "    win_dic = {}\n",
    "    # Using only activities with index 1 - 6, postural transitions are not included\n",
    "    sorted_labels =np.array(labels[labels['Act_ID'] < 7])\n",
    "    # Window id, first is 0\n",
    "    win_id = 0\n",
    "    # Taking each sample from labels\n",
    "    for sample in sorted_labels:\n",
    "        # When id numbers are less then 10, add 0 before \n",
    "        if sample[0] < 10:\n",
    "            key_exp = '0' + str(sample[0])\n",
    "        else:\n",
    "            key_exp = str(sample[0])\n",
    "        if sample[1] < 10:\n",
    "            key_us = '0' + str(sample[1])\n",
    "        else:\n",
    "            key_us = str(sample[1])  \n",
    "        # Creating keys to use right dataframes for the user and the experiment number\n",
    "        key = 'exp' + key_exp + '_user' + key_us\n",
    "        # Start_Point from the sample\n",
    "        start = sample[3]\n",
    "        # End_Point\n",
    "        end = sample[4]\n",
    "        # Act_ID\n",
    "        act_id = str(sample[2])\n",
    "        # Windowing a signal described by the sample (from startpoint to endpoint), where the step is 128/2 = 64\n",
    "        # bc the overlap is 50%\n",
    "        for start_point in range(start,end - 127,64):\n",
    "            # Window size 128 cycles\n",
    "            end_point = start_point + 127\n",
    "            # Creating a key for the windows dictionary\n",
    "            key_win = key + '_act' + act_id + '_' + str(win_id)\n",
    "            # Windowing the signal data\n",
    "            win_dic[key_win] = data_dic[key][start_point:end_point + 1]\n",
    "            # Increasing the window id\n",
    "            win_id+=1\n",
    "    # Returning the windowing time signal dicionary        \n",
    "    return win_dic"
   ]
  },
  {
   "cell_type": "code",
   "execution_count": 19,
   "id": "de5e66be",
   "metadata": {},
   "outputs": [],
   "source": [
    "# Windowing the time signal\n",
    "win_dic = signal_windowing(filtered_dic,labels)"
   ]
  },
  {
   "cell_type": "code",
   "execution_count": 20,
   "id": "5d00f8a4",
   "metadata": {},
   "outputs": [
    {
     "data": {
      "text/plain": [
       "(128, 9)"
      ]
     },
     "execution_count": 20,
     "metadata": {},
     "output_type": "execute_result"
    }
   ],
   "source": [
    "# Checking the shape of  the one sample\n",
    "win_dic['exp01_user01_act1_100'].shape"
   ]
  },
  {
   "cell_type": "markdown",
   "id": "7131e58f",
   "metadata": {},
   "source": [
    "* Each window has 9 components. "
   ]
  },
  {
   "cell_type": "code",
   "execution_count": 21,
   "id": "1b18e7ea",
   "metadata": {},
   "outputs": [],
   "source": [
    "# Filtering the labels data ( focused only on motion activities)\n",
    "# so activities from 1 to 6\n",
    "\n",
    "# Function to generate output general data: with numbers of activities ID for each window and each sample in this window\n",
    "def filter_labels(data):\n",
    "    # Getting keys from the dictionary with the windowing signal\n",
    "    keys = data.keys()\n",
    "    # General dataframe with all act id for each window\n",
    "    label_df = pd.DataFrame()\n",
    "    # Dataframe to put ID value for one window\n",
    "    act_df = pd.DataFrame()\n",
    "    for key in keys:\n",
    "        act_df['Act_ID'] = [int(key[16])]\n",
    "        label_df = pd.concat([label_df,act_df],axis=0, ignore_index=True)\n",
    "    return label_df"
   ]
  },
  {
   "cell_type": "code",
   "execution_count": 22,
   "id": "4579d177",
   "metadata": {},
   "outputs": [],
   "source": [
    "# Filtering labels and saving in the general_labels\n",
    "general_labels = filter_labels(win_dic)"
   ]
  },
  {
   "cell_type": "code",
   "execution_count": 23,
   "id": "c7f100e3",
   "metadata": {},
   "outputs": [
    {
     "name": "stdout",
     "output_type": "stream",
     "text": [
      "<class 'pandas.core.frame.DataFrame'>\n",
      "RangeIndex: 10399 entries, 0 to 10398\n",
      "Data columns (total 1 columns):\n",
      " #   Column  Non-Null Count  Dtype\n",
      "---  ------  --------------  -----\n",
      " 0   Act_ID  10399 non-null  int64\n",
      "dtypes: int64(1)\n",
      "memory usage: 81.4 KB\n"
     ]
    }
   ],
   "source": [
    "# Describing labels\n",
    "general_labels.info()"
   ]
  },
  {
   "cell_type": "code",
   "execution_count": 24,
   "id": "8ea2d44e",
   "metadata": {},
   "outputs": [
    {
     "data": {
      "image/png": "[encoded data removed]",
      "text/plain": [
       "<Figure size 432x288 with 1 Axes>"
      ]
     },
     "metadata": {
      "needs_background": "light"
     },
     "output_type": "display_data"
    }
   ],
   "source": [
    "# Visualising the labels dataset\n",
    "# Histogram for actvities described by the windows with features\n",
    "# 1 - WALKING\n",
    "# 2 - WALKING_UPSTAIRS\n",
    "# 3 - WALKING_DOWNSTAIRS\n",
    "# 4 - SITTING\n",
    "# 5 - STANDING\n",
    "# 6 - LAYING\n",
    "labels, counts = np.unique(general_labels, return_counts=True)\n",
    "plt.bar(labels, counts, color=['mediumaquamarine', 'orange', 'thistle', 'palevioletred', 'yellowgreen','y'])\n",
    "plt.gca().set_xticks(labels)\n",
    "plt.title('Numbers of activities for the general data')\n",
    "plt.show()"
   ]
  },
  {
   "cell_type": "markdown",
   "id": "e85e0099",
   "metadata": {},
   "source": [
    "# Changing the shape of the data to be compatible with a CNN\n",
    "* preparing the data into the shape [samples, window_shape, components] where:\n",
    "samples = 128, window_shape = 128 and components = 9 "
   ]
  },
  {
   "cell_type": "code",
   "execution_count": 25,
   "id": "12b06e25",
   "metadata": {},
   "outputs": [],
   "source": [
    "samples = len(win_dic) # Number of samples\n",
    "window_shape = win_dic['exp01_user01_act5_0'].shape[0] # Value of the window shape\n",
    "components = win_dic['exp01_user01_act5_0'].shape[1] # Number of components\n",
    "\n",
    "# Keys from the data dictionary\n",
    "keys = list(win_dic.keys())"
   ]
  },
  {
   "cell_type": "code",
   "execution_count": 26,
   "id": "97b70676",
   "metadata": {},
   "outputs": [
    {
     "name": "stdout",
     "output_type": "stream",
     "text": [
      "DATA SHAPE: [10399, 128, 9]\n"
     ]
    }
   ],
   "source": [
    "print('DATA SHAPE: [' + str(samples) + ', ' + str(window_shape) + ', ' + str(components) + ']' )"
   ]
  },
  {
   "cell_type": "code",
   "execution_count": 27,
   "id": "3ffd5f04",
   "metadata": {},
   "outputs": [],
   "source": [
    "# Data to save reshaped data from the win_dic with the shape (samples,window_shape,components)\n",
    "general_data = np.empty(shape = (samples,window_shape,components)) "
   ]
  },
  {
   "cell_type": "code",
   "execution_count": 28,
   "id": "5e328afd",
   "metadata": {},
   "outputs": [],
   "source": [
    "for i in range(samples):\n",
    "    general_data[i] = win_dic[keys[i]].values"
   ]
  },
  {
   "cell_type": "code",
   "execution_count": 29,
   "id": "1786f373",
   "metadata": {},
   "outputs": [
    {
     "data": {
      "text/plain": [
       "(10399, 128, 9)"
      ]
     },
     "execution_count": 29,
     "metadata": {},
     "output_type": "execute_result"
    }
   ],
   "source": [
    "# Final shape of the data\n",
    "general_data.shape"
   ]
  },
  {
   "cell_type": "markdown",
   "id": "34eacd58",
   "metadata": {},
   "source": [
    "# Division of data into training and testing\n",
    "* 70% training and 30% testing samples"
   ]
  },
  {
   "cell_type": "code",
   "execution_count": 211,
   "id": "ccf18221",
   "metadata": {},
   "outputs": [],
   "source": [
    "from sklearn.model_selection import train_test_split"
   ]
  },
  {
   "cell_type": "code",
   "execution_count": 232,
   "id": "28f20d7d",
   "metadata": {},
   "outputs": [],
   "source": [
    "# Changing names to show this process more clear\n",
    "X = general_data\n",
    "y = general_labels"
   ]
  },
  {
   "cell_type": "code",
   "execution_count": 234,
   "id": "a4109e20",
   "metadata": {},
   "outputs": [],
   "source": [
    "# Division process \n",
    "X_train, X_test, y_train, y_test = train_test_split(X, y,test_size = 0.3, random_state = 42)"
   ]
  },
  {
   "cell_type": "code",
   "execution_count": 236,
   "id": "0fd3b36f",
   "metadata": {},
   "outputs": [
    {
     "data": {
      "text/plain": [
       "((7279, 128, 9), (7279, 1), (3120, 128, 9), (3120, 1))"
      ]
     },
     "execution_count": 236,
     "metadata": {},
     "output_type": "execute_result"
    }
   ],
   "source": [
    "# Checking the shape \n",
    "X_train.shape, y_train.shape, X_test.shape, y_test.shape"
   ]
  },
  {
   "cell_type": "code",
   "execution_count": 254,
   "id": "20611f1b",
   "metadata": {},
   "outputs": [
    {
     "data": {
      "text/plain": [
       "Text(0.5, 1.0, 'Numbers of activities for test data')"
      ]
     },
     "execution_count": 254,
     "metadata": {},
     "output_type": "execute_result"
    },
    {
     "data": {
      "image/png": "[encoded data removed]",
      "text/plain": [
       "<Figure size 1080x360 with 2 Axes>"
      ]
     },
     "metadata": {
      "needs_background": "light"
     },
     "output_type": "display_data"
    }
   ],
   "source": [
    "# Visualising the separated dataset\n",
    "labels1, counts1 = np.unique(y_train, return_counts=True)\n",
    "labels2, counts2 = np.unique(y_test, return_counts=True)\n",
    "fig, (axs1, axs2) = plt.subplots(1,2,figsize=(15,5))\n",
    "axs1.bar(labels, counts, color=['mediumaquamarine', 'orange', 'thistle', 'palevioletred', 'yellowgreen','y'])\n",
    "axs1.set_title('Numbers of activities for train data')\n",
    "axs2.bar(labels2, counts2, color=['mediumaquamarine', 'orange', 'thistle', 'palevioletred', 'yellowgreen','y'])\n",
    "axs2.set_title('Numbers of activities for test data')"
   ]
  },
  {
   "cell_type": "markdown",
   "id": "cf76bb59",
   "metadata": {},
   "source": [
    "* Train data and test data are balanced together, so function train_test_split is enough to this project\n",
    "* Getting 7279 samples of the train data and 3120 samples of test data\n",
    "* Database is ready to use for "
   ]
  },
  {
   "cell_type": "code",
   "execution_count": null,
   "id": "b5b2f269",
   "metadata": {},
   "outputs": [],
   "source": []
  }
 ],
 "metadata": {
  "kernelspec": {
   "display_name": "Python 3 (ipykernel)",
   "language": "python",
   "name": "python3"
  },
  "language_info": {
   "codemirror_mode": {
    "name": "ipython",
    "version": 3
   },
   "file_extension": ".py",
   "mimetype": "text/x-python",
   "name": "python",
   "nbconvert_exporter": "python",
   "pygments_lexer": "ipython3",
   "version": "3.10.1"
  }
 },
 "nbformat": 4,
 "nbformat_minor": 5
}
